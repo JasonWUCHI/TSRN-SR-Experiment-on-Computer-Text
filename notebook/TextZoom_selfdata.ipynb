{
  "nbformat": 4,
  "nbformat_minor": 0,
  "metadata": {
    "accelerator": "GPU",
    "colab": {
      "provenance": [],
      "collapsed_sections": [
        "LUpgewu3ypff",
        "sgy5yrw3kc-1",
        "j2uzzfcFSCXG",
        "QTLgDfbLOT7k",
        "cAkdc1qC5xgx",
        "VPD4j2Igh7PC"
      ]
    },
    "kernelspec": {
      "display_name": "Python 3",
      "name": "python3"
    },
    "language_info": {
      "name": "python"
    }
  },
  "cells": [
    {
      "cell_type": "markdown",
      "metadata": {
        "id": "LUpgewu3ypff"
      },
      "source": [
        "#Settings"
      ]
    },
    {
      "cell_type": "code",
      "metadata": {
        "id": "GHFXAetHyo3J"
      },
      "source": [
        "BatchSize = 4\n",
        "train_path = '/content/content/train_jpeg'\n",
        "eval_path = '/content/content/eval_jpeg'\n",
        "image_Height = 256\n",
        "image_Width = 256\n",
        "downSample = 4\n",
        "\n",
        "#Model\n",
        "srb = 2\n",
        "hd_u = 32\n",
        "\n",
        "#Loss\n",
        "grd = True #gradient\n",
        "\n",
        "#Optimizer\n",
        "learning_rate = 0.001\n",
        "epochs = 500\n",
        "beta1 = 0.5\n",
        "\n",
        "#loss tracking\n",
        "training_loss = []\n",
        "eval_loss = []\n"
      ],
      "execution_count": 1,
      "outputs": []
    },
    {
      "cell_type": "markdown",
      "metadata": {
        "id": "-p996WalRl01"
      },
      "source": [
        "#Load Image from drive"
      ]
    },
    {
      "cell_type": "code",
      "metadata": {
        "colab": {
          "base_uri": "https://localhost:8080/"
        },
        "id": "In4eLQYUEA8T",
        "outputId": "18af0fa5-97fb-40b2-b431-6023ce80b8bc"
      },
      "source": [
        "from google.colab import drive\n",
        "drive.mount('/content/gdrive')"
      ],
      "execution_count": 2,
      "outputs": [
        {
          "output_type": "stream",
          "name": "stdout",
          "text": [
            "Drive already mounted at /content/gdrive; to attempt to forcibly remount, call drive.mount(\"/content/gdrive\", force_remount=True).\n"
          ]
        }
      ]
    },
    {
      "cell_type": "markdown",
      "source": [
        "#Create dataset"
      ],
      "metadata": {
        "id": "sgy5yrw3kc-1"
      }
    },
    {
      "cell_type": "code",
      "source": [
        "#Load libraries\n",
        "import os\n",
        "import numpy as np\n",
        "import torch\n",
        "import glob\n",
        "import torch.nn as nn\n",
        "from torchvision.transforms import transforms\n",
        "from torch.utils.data import DataLoader\n",
        "from torchvision.io import read_image\n",
        "from torch.utils.data import Dataset\n",
        "from torch.utils.data import random_split\n",
        "import torchvision\n",
        "from PIL import Image"
      ],
      "metadata": {
        "id": "2siSvBxRket8"
      },
      "execution_count": 2,
      "outputs": []
    },
    {
      "cell_type": "code",
      "source": [
        "device = torch.device('cuda' if torch.cuda.is_available() else 'cpu')\n",
        "print(device)"
      ],
      "metadata": {
        "colab": {
          "base_uri": "https://localhost:8080/"
        },
        "id": "FO3oKpbbkfwg",
        "outputId": "0ead3b9a-795d-4059-b10d-14232ab9bd4f"
      },
      "execution_count": 3,
      "outputs": [
        {
          "output_type": "stream",
          "name": "stdout",
          "text": [
            "cuda\n"
          ]
        }
      ]
    },
    {
      "cell_type": "code",
      "source": [
        "class MyDataset(Dataset):\n",
        "  def __init__(self , sr_dir, blur_dir):\n",
        "    self.sr_dir = sr_dir\n",
        "    self.blur_dir = blur_dir\n",
        "    self.toTensor = transforms.ToTensor()\n",
        "\n",
        "  def __len__(self):\n",
        "    return len(os.listdir(self.sr_dir))\n",
        "\n",
        "  def __getitem__(self , idx):\n",
        "    img_path = os.path.join(self.sr_dir , \"%d.png\" % idx)\n",
        "    sr_img = self.toTensor(Image.open(img_path).convert('RGB'))\n",
        "    img_path = os.path.join(self.blur_dir , \"%d.png\" % idx)\n",
        "    blur_img = self.toTensor(Image.open(img_path).convert('RGB'))\n",
        "\n",
        "\n",
        "    return sr_img, blur_img"
      ],
      "metadata": {
        "id": "WvVOSFi6kiOd"
      },
      "execution_count": 4,
      "outputs": []
    },
    {
      "cell_type": "code",
      "source": [
        "sr_dir = \"/content/gdrive/MyDrive/imgs\"\n",
        "blur_dir = \"/content/gdrive/MyDrive/blur_imgs\"\n",
        "dataset = MyDataset(sr_dir, blur_dir)"
      ],
      "metadata": {
        "id": "_EflCBXcmT9Q"
      },
      "execution_count": 5,
      "outputs": []
    },
    {
      "cell_type": "code",
      "source": [
        "generator1 = torch.Generator().manual_seed(42)\n",
        "train_dataset, val_dataset, test_dataset = random_split(dataset, [0.7, 0.2, 0.1], generator=generator1)"
      ],
      "metadata": {
        "id": "h5MWH014lbe8"
      },
      "execution_count": 6,
      "outputs": []
    },
    {
      "cell_type": "code",
      "source": [
        "train_loader = torch.utils.data.DataLoader(train_dataset , batch_size = BatchSize , shuffle = True,)\n",
        "val_loader = torch.utils.data.DataLoader(val_dataset , batch_size = BatchSize , shuffle = True,)\n",
        "test_loader = torch.utils.data.DataLoader(test_dataset , batch_size = BatchSize , shuffle = True,)"
      ],
      "metadata": {
        "id": "2fdpIZyrlK9d"
      },
      "execution_count": 7,
      "outputs": []
    },
    {
      "cell_type": "markdown",
      "metadata": {
        "id": "j2uzzfcFSCXG"
      },
      "source": [
        "#Create dataset old"
      ]
    },
    {
      "cell_type": "code",
      "metadata": {
        "id": "XIV53pRJC7T0"
      },
      "source": [
        "#Load libraries\n",
        "import os\n",
        "import numpy as np\n",
        "import torch\n",
        "import glob\n",
        "import torch.nn as nn\n",
        "from torchvision.transforms import transforms\n",
        "from torch.utils.data import DataLoader\n",
        "from torchvision.io import read_image\n",
        "from torch.utils.data import Dataset\n",
        "import torchvision\n",
        "from PIL import Image"
      ],
      "execution_count": 14,
      "outputs": []
    },
    {
      "cell_type": "code",
      "metadata": {
        "colab": {
          "base_uri": "https://localhost:8080/"
        },
        "id": "3E3WXVb_5AXp",
        "outputId": "d09e5301-3c2d-46c8-af64-d63f77c4bcfe"
      },
      "source": [
        "device = torch.device('cuda' if torch.cuda.is_available() else 'cpu')\n",
        "print(device)"
      ],
      "execution_count": 15,
      "outputs": [
        {
          "output_type": "stream",
          "name": "stdout",
          "text": [
            "cuda\n"
          ]
        }
      ]
    },
    {
      "cell_type": "code",
      "metadata": {
        "id": "nHs43uLud6PC"
      },
      "source": [
        "class MyDataset(Dataset):\n",
        "  def __init__(self , img_dir , transform = None):\n",
        "    self.img_dir = img_dir\n",
        "    self.transform = transform\n",
        "\n",
        "  def __len__(self):\n",
        "    return len(os.listdir(self.img_dir))\n",
        "\n",
        "  def __getitem__(self , idx):\n",
        "    img_path = os.path.join(self.img_dir , \"screenshot%05d.png\" % idx)\n",
        "    img = Image.open(img_path).convert('RGB')\n",
        "    if self.transform:\n",
        "      img = self.transform(img)\n",
        "    return img"
      ],
      "execution_count": 16,
      "outputs": []
    },
    {
      "cell_type": "code",
      "metadata": {
        "id": "pqBup0a8ucda"
      },
      "source": [
        "class resizeNormalize(object):\n",
        "    def __init__(self, size, mask=False, interpolation=Image.BICUBIC):\n",
        "        self.size = size\n",
        "        self.interpolation = interpolation\n",
        "        self.toTensor = transforms.ToTensor()\n",
        "        self.mask = mask\n",
        "\n",
        "    def __call__(self, img):\n",
        "        img = img.resize(self.size, self.interpolation)\n",
        "        img_tensor = self.toTensor(img)\n",
        "        if self.mask:\n",
        "            mask = img.convert('L')\n",
        "            thres = np.array(mask).mean()\n",
        "            mask = mask.point(lambda x: 0 if x > thres else 255)\n",
        "            mask = self.toTensor(mask)\n",
        "            img_tensor = torch.cat((img_tensor, mask), 0)\n",
        "        return img_tensor\n",
        "\n",
        "class alignCollate_syn(object):\n",
        "    def __init__(self, imgH=64, imgW=256, down_sample_scale=4, keep_ratio=False, min_ratio=1, mask=False):\n",
        "        self.imgH = imgH\n",
        "        self.imgW = imgW\n",
        "        self.keep_ratio = keep_ratio\n",
        "        self.min_ratio = min_ratio\n",
        "        self.down_sample_scale = down_sample_scale\n",
        "        self.mask = mask\n",
        "\n",
        "    def __call__(self, batch):\n",
        "        #images = zip(*batch)\n",
        "        images = batch\n",
        "        imgH = self.imgH\n",
        "        imgW = self.imgW\n",
        "        transform = resizeNormalize((imgW, imgH), self.mask)\n",
        "        transform2 = resizeNormalize((imgW // self.down_sample_scale, imgH // self.down_sample_scale), self.mask)\n",
        "\n",
        "        images_hr = [transform(image) for image in images]\n",
        "        images_hr = torch.cat([t.unsqueeze(0) for t in images_hr], 0)\n",
        "\n",
        "        images_lr = [image.resize((image.size[0]//self.down_sample_scale, image.size[1]//self.down_sample_scale), Image.BICUBIC) for image in images]\n",
        "        images_lr = [transform2(image) for image in images_lr]\n",
        "        images_lr = torch.cat([t.unsqueeze(0) for t in images_lr], 0)\n",
        "\n",
        "        return images_hr, images_lr"
      ],
      "execution_count": 17,
      "outputs": []
    },
    {
      "cell_type": "code",
      "metadata": {
        "id": "yYbwL_zxR71n"
      },
      "source": [
        "# train_path = '/content/self_train_1'\n",
        "# train_dataset = MyDataset(train_path)"
      ],
      "execution_count": 18,
      "outputs": []
    },
    {
      "cell_type": "code",
      "metadata": {
        "id": "YcZL8QLhSYbu"
      },
      "source": [
        "# train_loader = torch.utils.data.DataLoader(\n",
        "#     train_dataset , batch_size = BatchSize , shuffle = True , collate_fn = alignCollate_syn(imgH = image_Height, imgW = image_Width, down_sample_scale=downSample, mask = True) , drop_last = True\n",
        "# )"
      ],
      "execution_count": 19,
      "outputs": []
    },
    {
      "cell_type": "markdown",
      "metadata": {
        "id": "M6ZkpBoxxfRb"
      },
      "source": [
        "#Building Models"
      ]
    },
    {
      "cell_type": "code",
      "metadata": {
        "id": "BMsxjEs-xlyD"
      },
      "source": [
        "import math\n",
        "import time\n",
        "import torch.nn.functional as F\n",
        "from collections import OrderedDict\n",
        "import sys\n",
        "from torch.nn import init\n",
        "from IPython import embed"
      ],
      "execution_count": 8,
      "outputs": []
    },
    {
      "cell_type": "code",
      "metadata": {
        "id": "XlBPsrWc7V3U"
      },
      "source": [
        "class GruBlock(nn.Module):\n",
        "  def __init__(self, in_channels, out_channels):\n",
        "    super(GruBlock, self).__init__()\n",
        "    assert out_channels % 2 == 0\n",
        "    self.conv1 = nn.Conv2d(in_channels , out_channels , kernel_size=1 , padding = 0)\n",
        "    self.gru = nn.GRU(out_channels , out_channels // 2 , bidirectional = True , batch_first = True)\n",
        "\n",
        "  def forward(self , x):\n",
        "    x = self.conv1(x)\n",
        "    x = x.permute(0 , 2 , 3 ,1).contiguous()\n",
        "    b = x.size()\n",
        "    x = x.view(b[0] * b[1], b[2], b[3])\n",
        "    x , _ = self.gru(x)\n",
        "    x = x.view(b[0] , b[1] , b[2] , b[3])\n",
        "    x = x.permute(0 , 3 , 1 , 2)\n",
        "    return x"
      ],
      "execution_count": 9,
      "outputs": []
    },
    {
      "cell_type": "code",
      "metadata": {
        "id": "wMU0JO5X9xJB"
      },
      "source": [
        "class mish(nn.Module):\n",
        "  def __init__(self,):\n",
        "    super(mish , self).__init__()\n",
        "    self.activated = True\n",
        "\n",
        "  def forward(self , x):\n",
        "    if self.activated:\n",
        "      x = x * (torch.tanh(F.softplus(x)))\n",
        "    return x"
      ],
      "execution_count": 10,
      "outputs": []
    },
    {
      "cell_type": "code",
      "metadata": {
        "id": "a9mi3o4g5eSu"
      },
      "source": [
        "class RecurrentResidualBlock(nn.Module):\n",
        "  def __init__(self, channels):\n",
        "    super(RecurrentResidualBlock, self).__init__()\n",
        "    self.conv1 = nn.Conv2d(channels, channels, kernel_size = 3 , padding = 1)\n",
        "    self.bn1 = nn.BatchNorm2d(channels)\n",
        "    self.gru1 = GruBlock(channels , channels)\n",
        "    self.prelu = mish()\n",
        "    self.conv2 = nn.Conv2d(channels , channels , kernel_size=3 , padding=1)\n",
        "    self.bn2 = nn.BatchNorm2d(channels)\n",
        "    self.gru2 = GruBlock(channels , channels)\n",
        "\n",
        "  def forward(self , x):\n",
        "    residual = self.conv1(x)\n",
        "    residual = self.bn1(residual)\n",
        "    residual = self.prelu(residual)\n",
        "    residual = self.conv2(residual)\n",
        "    residual = self.bn2(residual)\n",
        "    residual = self.gru1(residual.transpose(-1 , -2)).transpose(-1,-2)\n",
        "\n",
        "    return self.gru2(x+residual)"
      ],
      "execution_count": 11,
      "outputs": []
    },
    {
      "cell_type": "code",
      "metadata": {
        "id": "zd7Xz4vwF1yT"
      },
      "source": [
        "class UpsampleBlock(nn.Module):\n",
        "  def __init__(self, in_channels , upscale):\n",
        "    super(UpsampleBlock , self).__init__()\n",
        "    self.conv = nn.Conv2d(in_channels , in_channels * upscale ** 2 , kernel_size=3 , padding=1)\n",
        "    self.pixel_shuffle = nn.PixelShuffle(upscale)\n",
        "    self.prelu = mish()\n",
        "\n",
        "  def forward(self , x):\n",
        "    x = self.conv(x)\n",
        "    x = self.pixel_shuffle(x)\n",
        "    x = self.prelu(x)\n",
        "    return x"
      ],
      "execution_count": 12,
      "outputs": []
    },
    {
      "cell_type": "code",
      "metadata": {
        "id": "Udkr0HFM3LwF"
      },
      "source": [
        "class TSRN(nn.Module):\n",
        "  def __init__(self , scale_factor=4 , width=128 , height=32 , STN=False , srb_nums=5, mask=True, hidden_units=32 ):\n",
        "    super(TSRN, self).__init__()\n",
        "    in_planes = 3\n",
        "    if mask:\n",
        "      in_planes = 4\n",
        "\n",
        "    # assert math.log(scale_factor,2)%1 == 0\n",
        "    # upsample_block_num = int(math.log(scale_factor,2))\n",
        "\n",
        "\n",
        "    self.block1 = nn.Sequential(\n",
        "        nn.Conv2d(in_planes , 2* hidden_units , kernel_size=9 , padding = 4),\n",
        "        nn.PReLU()\n",
        "    )\n",
        "    self.srb_nums = srb_nums\n",
        "\n",
        "    srb_blocks = [RecurrentResidualBlock(2*hidden_units) for _ in range(srb_nums)]\n",
        "    srb_blocks += [nn.Conv2d(2*hidden_units , 2*hidden_units , kernel_size = 3 , padding=1),nn.BatchNorm2d(2*hidden_units)]\n",
        "    self.srb_blocks = nn.Sequential(*srb_blocks)\n",
        "    # for i in range(srb_nums):\n",
        "    #   setattr(self , 'block%d' % (i+2), RecurrentResidualBlock(2*hidden_units))\n",
        "\n",
        "    # setattr(self , 'block%d' % (srb_nums+2),\n",
        "    #         nn.Sequential(\n",
        "    #             nn.Conv2d(2*hidden_units , 2*hidden_units , kernel_size = 3 , padding=1),\n",
        "    #             nn.BatchNorm2d(2*hidden_units)\n",
        "    #         ))\n",
        "\n",
        "    # block_ = [UpsampleBlock(2*hidden_units , 2) for _ in range(upsample_block_num)]\n",
        "    # block_.append(nn.Conv2d(2*hidden_units , in_planes ,  kernel_size=9 , padding = 4))\n",
        "    # self.upsample_blocks = nn.Sequential(*block_)\n",
        "    self.upsample_blocks = nn.Conv2d(2*hidden_units , in_planes ,  kernel_size=9 , padding = 4)\n",
        "    #setattr(self, 'block%d' % (srb_nums+3) , nn.Sequential(*block_))\n",
        "\n",
        "    # self.tps_inputsize = [32, 64]\n",
        "    # tps_outputsize = [height//scale_factor, width//scale_factor]\n",
        "    # num_control_points = 20\n",
        "    # tps_margins = [0.05, 0.05]\n",
        "    # self.stn = STN\n",
        "    # if self.stn:\n",
        "    #     self.tps = TPSSpatialTransformer(\n",
        "    #         output_image_size=tuple(tps_outputsize),\n",
        "    #         num_control_points=num_control_points,\n",
        "    #         margins=tuple(tps_margins))\n",
        "\n",
        "    #     self.stn_head = STNHead(\n",
        "    #         in_planes=in_planes,\n",
        "    #         num_ctrlpoints=num_control_points,\n",
        "    #         activation='none')\n",
        "\n",
        "  def forward(self , x):\n",
        "    # if self.stn and self.training:\n",
        "    #   x = F.interpolate(x, self.tps_inputsize, mode='bilinear', align_corners=True)\n",
        "    #   _, ctrl_points_x = self.stn_head(x)\n",
        "    #   x, _ = self.tps(x, ctrl_points_x)\n",
        "    block = self.block1(x)\n",
        "    block2 = self.srb_blocks(block)\n",
        "    output = torch.tanh(self.upsample_blocks(block+block2))\n",
        "    # for i in range(self.srb_nums + 1):\n",
        "    #   block[str(i+2)] = getattr(self, 'block%d' % (i+2))(block[str(i+1)])\n",
        "\n",
        "    #block[str(self.srb_nums + 3)] = getattr(self, 'block%d' % (self.srb_nums + 3))((block['1'] + block[str(self.srb_nums + 2)]))\n",
        "    #output = torch.tanh(block[str(self.srb_nums + 3)])\n",
        "\n",
        "    #print(block['1'].shape, output.shape)\n",
        "\n",
        "    return output"
      ],
      "execution_count": 13,
      "outputs": []
    },
    {
      "cell_type": "markdown",
      "metadata": {
        "id": "QTLgDfbLOT7k"
      },
      "source": [
        "#Loss"
      ]
    },
    {
      "cell_type": "code",
      "metadata": {
        "id": "WNdMMU8N1m1t"
      },
      "source": [
        "class GradientPriorLoss(nn.Module):\n",
        "  def __init__(self , ):\n",
        "    super(GradientPriorLoss , self).__init__()\n",
        "    self.func = nn.L1Loss()\n",
        "\n",
        "  def forward(self , out_images , target_images):\n",
        "    map_out = self.gradient_map(out_images)\n",
        "    map_target = self.gradient_map(target_images)\n",
        "    return self.func(map_out , map_target)\n",
        "\n",
        "  @staticmethod\n",
        "  def gradient_map(x):\n",
        "    batch_size , channel , h_x , w_x = x.size()\n",
        "    r = F.pad(x , (0,1,0,0))[: , : , : , 1:]\n",
        "    l = F.pad(x , (1,0,0,0))[: , : , : , :w_x]\n",
        "    t = F.pad(x , (0,0,1,0))[: , : , :h_x , :]\n",
        "    b = F.pad(x , (0,0,0,1))[: , : , 1: , :]\n",
        "    xgrad = torch.pow(torch.pow((r-l)*0.5 , 2) + torch.pow((t-b)*0.5 , 2)+1e-6 , 0.5)\n",
        "    return xgrad"
      ],
      "execution_count": 14,
      "outputs": []
    },
    {
      "cell_type": "code",
      "metadata": {
        "id": "xQDBouv7OTIU"
      },
      "source": [
        "class ImageLoss(nn.Module):\n",
        "  def __init__(self , gradient = True , loss_weight = [20 , 1e-4]):\n",
        "    super(ImageLoss , self).__init__()\n",
        "    self.mse = nn.MSELoss()\n",
        "    if gradient:\n",
        "      self.GPLoss = GradientPriorLoss()\n",
        "    self.gradient = gradient\n",
        "    self.loss_weight = loss_weight\n",
        "\n",
        "  def forward(self , out_images, target_images):\n",
        "    if self.gradient:\n",
        "      loss = self.loss_weight[0] * self.mse(out_images , target_images) + \\\n",
        "             self.loss_weight[1] * self.GPLoss(out_images[: , :3 , : , :], target_images[: , :3 , : , :])\n",
        "    else:\n",
        "      loss = self.loss_weight[0] * self.mse(out_images , target_images)\n",
        "    return loss\n"
      ],
      "execution_count": 15,
      "outputs": []
    },
    {
      "cell_type": "markdown",
      "source": [
        "#Training New"
      ],
      "metadata": {
        "id": "VeAi2ziPrHLD"
      }
    },
    {
      "cell_type": "code",
      "source": [
        "def train(model):\n",
        "  model = model.to(device)\n",
        "  image_crit = ImageLoss(gradient=grd, loss_weight=[1 , 1e-4])\n",
        "  image_crit = image_crit.to(device)\n",
        "  optimizer_G = torch.optim.Adam(model.parameters() , lr=learning_rate , betas=(beta1,0.999))\n",
        "\n",
        "  for epoch in range(5):\n",
        "    print(\"Number of epoch:\" , epoch)\n",
        "    for j, data in (enumerate(train_loader)):\n",
        "      model.train() #verify that model is training instead of evaluating\n",
        "      iters = len(train_loader) * epoch + j + 1\n",
        "      optimizer_G.zero_grad()\n",
        "\n",
        "      images_hr , images_lr = data #[16,3,256,256]\n",
        "      images_lr = images_lr.to(device)\n",
        "      images_hr = images_hr.to(device)\n",
        "      image_sr = model(images_lr)\n",
        "      print(images_hr.shape, images_lr.shape, image_sr.shape)\n",
        "      loss_im = image_crit(image_sr , images_hr).mean() * 100\n",
        "\n",
        "      loss_im.backward()\n",
        "      #torch.nn.utils.clip_grad_norm_(model.parameters(), 0.25)\n",
        "      optimizer_G.step()\n",
        "\n",
        "      torch.cuda.empty_cache()\n"
      ],
      "metadata": {
        "id": "smwWSuJGrF66"
      },
      "execution_count": 21,
      "outputs": []
    },
    {
      "cell_type": "code",
      "source": [
        "model = TSRN(scale_factor=1 , width=image_Width , height=image_Height , STN=False , srb_nums=srb , mask=False , hidden_units=hd_u)"
      ],
      "metadata": {
        "id": "ZbJRNJ11uKlG"
      },
      "execution_count": 22,
      "outputs": []
    },
    {
      "cell_type": "code",
      "source": [
        "train(model)"
      ],
      "metadata": {
        "colab": {
          "base_uri": "https://localhost:8080/",
          "height": 411
        },
        "id": "fhn0zAVkrMYX",
        "outputId": "f0e60c50-7cb3-438c-9b21-be36ee66650e"
      },
      "execution_count": 23,
      "outputs": [
        {
          "output_type": "stream",
          "name": "stdout",
          "text": [
            "Number of epoch: 0\n",
            "torch.Size([4, 3, 256, 256]) torch.Size([4, 3, 256, 256]) torch.Size([4, 3, 256, 256])\n",
            "torch.Size([4, 3, 256, 256]) torch.Size([4, 3, 256, 256]) torch.Size([4, 3, 256, 256])\n",
            "torch.Size([4, 3, 256, 256]) torch.Size([4, 3, 256, 256]) torch.Size([4, 3, 256, 256])\n",
            "torch.Size([4, 3, 256, 256]) torch.Size([4, 3, 256, 256]) torch.Size([4, 3, 256, 256])\n"
          ]
        },
        {
          "output_type": "error",
          "ename": "KeyboardInterrupt",
          "evalue": "ignored",
          "traceback": [
            "\u001b[0;31m---------------------------------------------------------------------------\u001b[0m",
            "\u001b[0;31mKeyboardInterrupt\u001b[0m                         Traceback (most recent call last)",
            "\u001b[0;32m<ipython-input-23-9d3046b5d0d4>\u001b[0m in \u001b[0;36m<cell line: 1>\u001b[0;34m()\u001b[0m\n\u001b[0;32m----> 1\u001b[0;31m \u001b[0mtrain\u001b[0m\u001b[0;34m(\u001b[0m\u001b[0mmodel\u001b[0m\u001b[0;34m)\u001b[0m\u001b[0;34m\u001b[0m\u001b[0;34m\u001b[0m\u001b[0m\n\u001b[0m",
            "\u001b[0;32m<ipython-input-21-373fc4a3c774>\u001b[0m in \u001b[0;36mtrain\u001b[0;34m(model)\u001b[0m\n\u001b[1;32m      7\u001b[0m   \u001b[0;32mfor\u001b[0m \u001b[0mepoch\u001b[0m \u001b[0;32min\u001b[0m \u001b[0mrange\u001b[0m\u001b[0;34m(\u001b[0m\u001b[0;36m5\u001b[0m\u001b[0;34m)\u001b[0m\u001b[0;34m:\u001b[0m\u001b[0;34m\u001b[0m\u001b[0;34m\u001b[0m\u001b[0m\n\u001b[1;32m      8\u001b[0m     \u001b[0mprint\u001b[0m\u001b[0;34m(\u001b[0m\u001b[0;34m\"Number of epoch:\"\u001b[0m \u001b[0;34m,\u001b[0m \u001b[0mepoch\u001b[0m\u001b[0;34m)\u001b[0m\u001b[0;34m\u001b[0m\u001b[0;34m\u001b[0m\u001b[0m\n\u001b[0;32m----> 9\u001b[0;31m     \u001b[0;32mfor\u001b[0m \u001b[0mj\u001b[0m\u001b[0;34m,\u001b[0m \u001b[0mdata\u001b[0m \u001b[0;32min\u001b[0m \u001b[0;34m(\u001b[0m\u001b[0menumerate\u001b[0m\u001b[0;34m(\u001b[0m\u001b[0mtrain_loader\u001b[0m\u001b[0;34m)\u001b[0m\u001b[0;34m)\u001b[0m\u001b[0;34m:\u001b[0m\u001b[0;34m\u001b[0m\u001b[0;34m\u001b[0m\u001b[0m\n\u001b[0m\u001b[1;32m     10\u001b[0m       \u001b[0mmodel\u001b[0m\u001b[0;34m.\u001b[0m\u001b[0mtrain\u001b[0m\u001b[0;34m(\u001b[0m\u001b[0;34m)\u001b[0m \u001b[0;31m#verify that model is training instead of evaluating\u001b[0m\u001b[0;34m\u001b[0m\u001b[0;34m\u001b[0m\u001b[0m\n\u001b[1;32m     11\u001b[0m       \u001b[0miters\u001b[0m \u001b[0;34m=\u001b[0m \u001b[0mlen\u001b[0m\u001b[0;34m(\u001b[0m\u001b[0mtrain_loader\u001b[0m\u001b[0;34m)\u001b[0m \u001b[0;34m*\u001b[0m \u001b[0mepoch\u001b[0m \u001b[0;34m+\u001b[0m \u001b[0mj\u001b[0m \u001b[0;34m+\u001b[0m \u001b[0;36m1\u001b[0m\u001b[0;34m\u001b[0m\u001b[0;34m\u001b[0m\u001b[0m\n",
            "\u001b[0;32m/usr/local/lib/python3.10/dist-packages/torch/utils/data/dataloader.py\u001b[0m in \u001b[0;36m__next__\u001b[0;34m(self)\u001b[0m\n\u001b[1;32m    631\u001b[0m                 \u001b[0;31m# TODO(https://github.com/pytorch/pytorch/issues/76750)\u001b[0m\u001b[0;34m\u001b[0m\u001b[0;34m\u001b[0m\u001b[0m\n\u001b[1;32m    632\u001b[0m                 \u001b[0mself\u001b[0m\u001b[0;34m.\u001b[0m\u001b[0m_reset\u001b[0m\u001b[0;34m(\u001b[0m\u001b[0;34m)\u001b[0m  \u001b[0;31m# type: ignore[call-arg]\u001b[0m\u001b[0;34m\u001b[0m\u001b[0;34m\u001b[0m\u001b[0m\n\u001b[0;32m--> 633\u001b[0;31m             \u001b[0mdata\u001b[0m \u001b[0;34m=\u001b[0m \u001b[0mself\u001b[0m\u001b[0;34m.\u001b[0m\u001b[0m_next_data\u001b[0m\u001b[0;34m(\u001b[0m\u001b[0;34m)\u001b[0m\u001b[0;34m\u001b[0m\u001b[0;34m\u001b[0m\u001b[0m\n\u001b[0m\u001b[1;32m    634\u001b[0m             \u001b[0mself\u001b[0m\u001b[0;34m.\u001b[0m\u001b[0m_num_yielded\u001b[0m \u001b[0;34m+=\u001b[0m \u001b[0;36m1\u001b[0m\u001b[0;34m\u001b[0m\u001b[0;34m\u001b[0m\u001b[0m\n\u001b[1;32m    635\u001b[0m             \u001b[0;32mif\u001b[0m \u001b[0mself\u001b[0m\u001b[0;34m.\u001b[0m\u001b[0m_dataset_kind\u001b[0m \u001b[0;34m==\u001b[0m \u001b[0m_DatasetKind\u001b[0m\u001b[0;34m.\u001b[0m\u001b[0mIterable\u001b[0m \u001b[0;32mand\u001b[0m\u001b[0;31m \u001b[0m\u001b[0;31m\\\u001b[0m\u001b[0;34m\u001b[0m\u001b[0;34m\u001b[0m\u001b[0m\n",
            "\u001b[0;32m/usr/local/lib/python3.10/dist-packages/torch/utils/data/dataloader.py\u001b[0m in \u001b[0;36m_next_data\u001b[0;34m(self)\u001b[0m\n\u001b[1;32m    675\u001b[0m     \u001b[0;32mdef\u001b[0m \u001b[0m_next_data\u001b[0m\u001b[0;34m(\u001b[0m\u001b[0mself\u001b[0m\u001b[0;34m)\u001b[0m\u001b[0;34m:\u001b[0m\u001b[0;34m\u001b[0m\u001b[0;34m\u001b[0m\u001b[0m\n\u001b[1;32m    676\u001b[0m         \u001b[0mindex\u001b[0m \u001b[0;34m=\u001b[0m \u001b[0mself\u001b[0m\u001b[0;34m.\u001b[0m\u001b[0m_next_index\u001b[0m\u001b[0;34m(\u001b[0m\u001b[0;34m)\u001b[0m  \u001b[0;31m# may raise StopIteration\u001b[0m\u001b[0;34m\u001b[0m\u001b[0;34m\u001b[0m\u001b[0m\n\u001b[0;32m--> 677\u001b[0;31m         \u001b[0mdata\u001b[0m \u001b[0;34m=\u001b[0m \u001b[0mself\u001b[0m\u001b[0;34m.\u001b[0m\u001b[0m_dataset_fetcher\u001b[0m\u001b[0;34m.\u001b[0m\u001b[0mfetch\u001b[0m\u001b[0;34m(\u001b[0m\u001b[0mindex\u001b[0m\u001b[0;34m)\u001b[0m  \u001b[0;31m# may raise StopIteration\u001b[0m\u001b[0;34m\u001b[0m\u001b[0;34m\u001b[0m\u001b[0m\n\u001b[0m\u001b[1;32m    678\u001b[0m         \u001b[0;32mif\u001b[0m \u001b[0mself\u001b[0m\u001b[0;34m.\u001b[0m\u001b[0m_pin_memory\u001b[0m\u001b[0;34m:\u001b[0m\u001b[0;34m\u001b[0m\u001b[0;34m\u001b[0m\u001b[0m\n\u001b[1;32m    679\u001b[0m             \u001b[0mdata\u001b[0m \u001b[0;34m=\u001b[0m \u001b[0m_utils\u001b[0m\u001b[0;34m.\u001b[0m\u001b[0mpin_memory\u001b[0m\u001b[0;34m.\u001b[0m\u001b[0mpin_memory\u001b[0m\u001b[0;34m(\u001b[0m\u001b[0mdata\u001b[0m\u001b[0;34m,\u001b[0m \u001b[0mself\u001b[0m\u001b[0;34m.\u001b[0m\u001b[0m_pin_memory_device\u001b[0m\u001b[0;34m)\u001b[0m\u001b[0;34m\u001b[0m\u001b[0;34m\u001b[0m\u001b[0m\n",
            "\u001b[0;32m/usr/local/lib/python3.10/dist-packages/torch/utils/data/_utils/fetch.py\u001b[0m in \u001b[0;36mfetch\u001b[0;34m(self, possibly_batched_index)\u001b[0m\n\u001b[1;32m     49\u001b[0m                 \u001b[0mdata\u001b[0m \u001b[0;34m=\u001b[0m \u001b[0mself\u001b[0m\u001b[0;34m.\u001b[0m\u001b[0mdataset\u001b[0m\u001b[0;34m.\u001b[0m\u001b[0m__getitems__\u001b[0m\u001b[0;34m(\u001b[0m\u001b[0mpossibly_batched_index\u001b[0m\u001b[0;34m)\u001b[0m\u001b[0;34m\u001b[0m\u001b[0;34m\u001b[0m\u001b[0m\n\u001b[1;32m     50\u001b[0m             \u001b[0;32melse\u001b[0m\u001b[0;34m:\u001b[0m\u001b[0;34m\u001b[0m\u001b[0;34m\u001b[0m\u001b[0m\n\u001b[0;32m---> 51\u001b[0;31m                 \u001b[0mdata\u001b[0m \u001b[0;34m=\u001b[0m \u001b[0;34m[\u001b[0m\u001b[0mself\u001b[0m\u001b[0;34m.\u001b[0m\u001b[0mdataset\u001b[0m\u001b[0;34m[\u001b[0m\u001b[0midx\u001b[0m\u001b[0;34m]\u001b[0m \u001b[0;32mfor\u001b[0m \u001b[0midx\u001b[0m \u001b[0;32min\u001b[0m \u001b[0mpossibly_batched_index\u001b[0m\u001b[0;34m]\u001b[0m\u001b[0;34m\u001b[0m\u001b[0;34m\u001b[0m\u001b[0m\n\u001b[0m\u001b[1;32m     52\u001b[0m         \u001b[0;32melse\u001b[0m\u001b[0;34m:\u001b[0m\u001b[0;34m\u001b[0m\u001b[0;34m\u001b[0m\u001b[0m\n\u001b[1;32m     53\u001b[0m             \u001b[0mdata\u001b[0m \u001b[0;34m=\u001b[0m \u001b[0mself\u001b[0m\u001b[0;34m.\u001b[0m\u001b[0mdataset\u001b[0m\u001b[0;34m[\u001b[0m\u001b[0mpossibly_batched_index\u001b[0m\u001b[0;34m]\u001b[0m\u001b[0;34m\u001b[0m\u001b[0;34m\u001b[0m\u001b[0m\n",
            "\u001b[0;32m/usr/local/lib/python3.10/dist-packages/torch/utils/data/_utils/fetch.py\u001b[0m in \u001b[0;36m<listcomp>\u001b[0;34m(.0)\u001b[0m\n\u001b[1;32m     49\u001b[0m                 \u001b[0mdata\u001b[0m \u001b[0;34m=\u001b[0m \u001b[0mself\u001b[0m\u001b[0;34m.\u001b[0m\u001b[0mdataset\u001b[0m\u001b[0;34m.\u001b[0m\u001b[0m__getitems__\u001b[0m\u001b[0;34m(\u001b[0m\u001b[0mpossibly_batched_index\u001b[0m\u001b[0;34m)\u001b[0m\u001b[0;34m\u001b[0m\u001b[0;34m\u001b[0m\u001b[0m\n\u001b[1;32m     50\u001b[0m             \u001b[0;32melse\u001b[0m\u001b[0;34m:\u001b[0m\u001b[0;34m\u001b[0m\u001b[0;34m\u001b[0m\u001b[0m\n\u001b[0;32m---> 51\u001b[0;31m                 \u001b[0mdata\u001b[0m \u001b[0;34m=\u001b[0m \u001b[0;34m[\u001b[0m\u001b[0mself\u001b[0m\u001b[0;34m.\u001b[0m\u001b[0mdataset\u001b[0m\u001b[0;34m[\u001b[0m\u001b[0midx\u001b[0m\u001b[0;34m]\u001b[0m \u001b[0;32mfor\u001b[0m \u001b[0midx\u001b[0m \u001b[0;32min\u001b[0m \u001b[0mpossibly_batched_index\u001b[0m\u001b[0;34m]\u001b[0m\u001b[0;34m\u001b[0m\u001b[0;34m\u001b[0m\u001b[0m\n\u001b[0m\u001b[1;32m     52\u001b[0m         \u001b[0;32melse\u001b[0m\u001b[0;34m:\u001b[0m\u001b[0;34m\u001b[0m\u001b[0;34m\u001b[0m\u001b[0m\n\u001b[1;32m     53\u001b[0m             \u001b[0mdata\u001b[0m \u001b[0;34m=\u001b[0m \u001b[0mself\u001b[0m\u001b[0;34m.\u001b[0m\u001b[0mdataset\u001b[0m\u001b[0;34m[\u001b[0m\u001b[0mpossibly_batched_index\u001b[0m\u001b[0;34m]\u001b[0m\u001b[0;34m\u001b[0m\u001b[0;34m\u001b[0m\u001b[0m\n",
            "\u001b[0;32m/usr/local/lib/python3.10/dist-packages/torch/utils/data/dataset.py\u001b[0m in \u001b[0;36m__getitem__\u001b[0;34m(self, idx)\u001b[0m\n\u001b[1;32m    296\u001b[0m         \u001b[0;32mif\u001b[0m \u001b[0misinstance\u001b[0m\u001b[0;34m(\u001b[0m\u001b[0midx\u001b[0m\u001b[0;34m,\u001b[0m \u001b[0mlist\u001b[0m\u001b[0;34m)\u001b[0m\u001b[0;34m:\u001b[0m\u001b[0;34m\u001b[0m\u001b[0;34m\u001b[0m\u001b[0m\n\u001b[1;32m    297\u001b[0m             \u001b[0;32mreturn\u001b[0m \u001b[0mself\u001b[0m\u001b[0;34m.\u001b[0m\u001b[0mdataset\u001b[0m\u001b[0;34m[\u001b[0m\u001b[0;34m[\u001b[0m\u001b[0mself\u001b[0m\u001b[0;34m.\u001b[0m\u001b[0mindices\u001b[0m\u001b[0;34m[\u001b[0m\u001b[0mi\u001b[0m\u001b[0;34m]\u001b[0m \u001b[0;32mfor\u001b[0m \u001b[0mi\u001b[0m \u001b[0;32min\u001b[0m \u001b[0midx\u001b[0m\u001b[0;34m]\u001b[0m\u001b[0;34m]\u001b[0m\u001b[0;34m\u001b[0m\u001b[0;34m\u001b[0m\u001b[0m\n\u001b[0;32m--> 298\u001b[0;31m         \u001b[0;32mreturn\u001b[0m \u001b[0mself\u001b[0m\u001b[0;34m.\u001b[0m\u001b[0mdataset\u001b[0m\u001b[0;34m[\u001b[0m\u001b[0mself\u001b[0m\u001b[0;34m.\u001b[0m\u001b[0mindices\u001b[0m\u001b[0;34m[\u001b[0m\u001b[0midx\u001b[0m\u001b[0;34m]\u001b[0m\u001b[0;34m]\u001b[0m\u001b[0;34m\u001b[0m\u001b[0;34m\u001b[0m\u001b[0m\n\u001b[0m\u001b[1;32m    299\u001b[0m \u001b[0;34m\u001b[0m\u001b[0m\n\u001b[1;32m    300\u001b[0m     \u001b[0;32mdef\u001b[0m \u001b[0m__len__\u001b[0m\u001b[0;34m(\u001b[0m\u001b[0mself\u001b[0m\u001b[0;34m)\u001b[0m\u001b[0;34m:\u001b[0m\u001b[0;34m\u001b[0m\u001b[0;34m\u001b[0m\u001b[0m\n",
            "\u001b[0;32m<ipython-input-4-bdcc0d66c3fe>\u001b[0m in \u001b[0;36m__getitem__\u001b[0;34m(self, idx)\u001b[0m\n\u001b[1;32m     12\u001b[0m     \u001b[0msr_img\u001b[0m \u001b[0;34m=\u001b[0m \u001b[0mself\u001b[0m\u001b[0;34m.\u001b[0m\u001b[0mtoTensor\u001b[0m\u001b[0;34m(\u001b[0m\u001b[0mImage\u001b[0m\u001b[0;34m.\u001b[0m\u001b[0mopen\u001b[0m\u001b[0;34m(\u001b[0m\u001b[0mimg_path\u001b[0m\u001b[0;34m)\u001b[0m\u001b[0;34m.\u001b[0m\u001b[0mconvert\u001b[0m\u001b[0;34m(\u001b[0m\u001b[0;34m'RGB'\u001b[0m\u001b[0;34m)\u001b[0m\u001b[0;34m)\u001b[0m\u001b[0;34m\u001b[0m\u001b[0;34m\u001b[0m\u001b[0m\n\u001b[1;32m     13\u001b[0m     \u001b[0mimg_path\u001b[0m \u001b[0;34m=\u001b[0m \u001b[0mos\u001b[0m\u001b[0;34m.\u001b[0m\u001b[0mpath\u001b[0m\u001b[0;34m.\u001b[0m\u001b[0mjoin\u001b[0m\u001b[0;34m(\u001b[0m\u001b[0mself\u001b[0m\u001b[0;34m.\u001b[0m\u001b[0mblur_dir\u001b[0m \u001b[0;34m,\u001b[0m \u001b[0;34m\"%d.png\"\u001b[0m \u001b[0;34m%\u001b[0m \u001b[0midx\u001b[0m\u001b[0;34m)\u001b[0m\u001b[0;34m\u001b[0m\u001b[0;34m\u001b[0m\u001b[0m\n\u001b[0;32m---> 14\u001b[0;31m     \u001b[0mblur_img\u001b[0m \u001b[0;34m=\u001b[0m \u001b[0mself\u001b[0m\u001b[0;34m.\u001b[0m\u001b[0mtoTensor\u001b[0m\u001b[0;34m(\u001b[0m\u001b[0mImage\u001b[0m\u001b[0;34m.\u001b[0m\u001b[0mopen\u001b[0m\u001b[0;34m(\u001b[0m\u001b[0mimg_path\u001b[0m\u001b[0;34m)\u001b[0m\u001b[0;34m.\u001b[0m\u001b[0mconvert\u001b[0m\u001b[0;34m(\u001b[0m\u001b[0;34m'RGB'\u001b[0m\u001b[0;34m)\u001b[0m\u001b[0;34m)\u001b[0m\u001b[0;34m\u001b[0m\u001b[0;34m\u001b[0m\u001b[0m\n\u001b[0m\u001b[1;32m     15\u001b[0m \u001b[0;34m\u001b[0m\u001b[0m\n\u001b[1;32m     16\u001b[0m \u001b[0;34m\u001b[0m\u001b[0m\n",
            "\u001b[0;32m/usr/local/lib/python3.10/dist-packages/PIL/Image.py\u001b[0m in \u001b[0;36mopen\u001b[0;34m(fp, mode, formats)\u001b[0m\n\u001b[1;32m   3234\u001b[0m         \u001b[0mexclusive_fp\u001b[0m \u001b[0;34m=\u001b[0m \u001b[0;32mTrue\u001b[0m\u001b[0;34m\u001b[0m\u001b[0;34m\u001b[0m\u001b[0m\n\u001b[1;32m   3235\u001b[0m \u001b[0;34m\u001b[0m\u001b[0m\n\u001b[0;32m-> 3236\u001b[0;31m     \u001b[0mprefix\u001b[0m \u001b[0;34m=\u001b[0m \u001b[0mfp\u001b[0m\u001b[0;34m.\u001b[0m\u001b[0mread\u001b[0m\u001b[0;34m(\u001b[0m\u001b[0;36m16\u001b[0m\u001b[0;34m)\u001b[0m\u001b[0;34m\u001b[0m\u001b[0;34m\u001b[0m\u001b[0m\n\u001b[0m\u001b[1;32m   3237\u001b[0m \u001b[0;34m\u001b[0m\u001b[0m\n\u001b[1;32m   3238\u001b[0m     \u001b[0mpreinit\u001b[0m\u001b[0;34m(\u001b[0m\u001b[0;34m)\u001b[0m\u001b[0;34m\u001b[0m\u001b[0;34m\u001b[0m\u001b[0m\n",
            "\u001b[0;31mKeyboardInterrupt\u001b[0m: "
          ]
        }
      ]
    },
    {
      "cell_type": "markdown",
      "metadata": {
        "id": "M58nHKMGxmTv"
      },
      "source": [
        "#Training"
      ]
    },
    {
      "cell_type": "code",
      "metadata": {
        "id": "zyoE5j3sLX42"
      },
      "source": [
        "def eval(model):\n",
        "  eval_dataset = MyDataset(eval_path)\n",
        "  eval_loader = torch.utils.data.DataLoader(\n",
        "      eval_dataset, batch_size = BatchSize, shuffle = True, collate_fn = alignCollate_syn(imgH = image_Height, imgW= image_Width, down_sample_scale=downSample, mask = True), drop_last = True\n",
        "  )\n",
        "\n",
        "  image_crit = ImageLoss(gradient=grd, loss_weight=[1 , 1e-4])\n",
        "  image_crit = image_crit.to(device)\n",
        "\n",
        "  loss_list = []\n",
        "\n",
        "  model.eval()\n",
        "  for j, data in (enumerate(eval_loader)):\n",
        "    for p in model.parameters():\n",
        "      p.requires_grad = False\n",
        "\n",
        "    images_hr , images_lr = data\n",
        "    images_lr = images_lr.to(device)\n",
        "    images_hr = images_hr.to(device)\n",
        "\n",
        "    images_sr = model(images_lr)\n",
        "    loss_im_eval = image_crit(images_sr,images_hr).mean() * 100\n",
        "    loss_list.append(loss_im_eval.item())\n",
        "    torch.cuda.empty_cache()\n",
        "\n",
        "  eval_loss.append(sum(loss_list)/len(loss_list))\n"
      ],
      "execution_count": null,
      "outputs": []
    },
    {
      "cell_type": "code",
      "metadata": {
        "id": "IZ0god3EVPu9"
      },
      "source": [
        "def train():\n",
        "  # model = TSRN(scale_factor=downSample , width=image_Width , height=image_Height , STN=False , srb_nums=srb , mask=True , hidden_units=hd_u)\n",
        "  # model = model.to(device)\n",
        "  image_crit = ImageLoss(gradient=grd, loss_weight=[1 , 1e-4])\n",
        "  image_crit = image_crit.to(device)\n",
        "  # optimizer_G = torch.optim.Adam(model.parameters() , lr=learning_rate , betas=(beta1,0.999))\n",
        "\n",
        "  for epoch in range(5):\n",
        "    print(\"Number of epoch:\" , epoch)\n",
        "    for j, data in (enumerate(train_loader)):\n",
        "      # model.train() #verify that model is training instead of evaluating\n",
        "\n",
        "      # for p in model.parameters():\n",
        "      #   p.requires_grad = True\n",
        "      iters = len(train_loader) * epoch + j + 1\n",
        "\n",
        "      images_hr , images_lr = data\n",
        "      print(images_hr.shape, images_lr.shape)\n",
        "\n",
        "      images_lr = images_lr.to(device)\n",
        "      images_hr = images_hr.to(device)\n",
        "\n",
        "      image_sr = model(images_lr)\n",
        "      loss_im = image_crit(image_sr , images_hr).mean() * 100\n",
        "\n",
        "      optimizer_G.zero_grad()\n",
        "      loss_im.backward()\n",
        "      torch.nn.utils.clip_grad_norm_(model.parameters(), 0.25)\n",
        "      optimizer_G.step()\n",
        "\n",
        "      torch.cuda.empty_cache()\n",
        "\n",
        "      if j % 200 == 0:\n",
        "        print(\"Loss: \", loss_im)\n",
        "        training_loss.append(loss_im.item())\n",
        "        eval(model)\n",
        "\n",
        "  torch.save(model.state_dict(), 'TextZoom_jpeg_20.pkl')\n",
        "\n"
      ],
      "execution_count": null,
      "outputs": []
    },
    {
      "cell_type": "code",
      "metadata": {
        "id": "KkDwr7mEG_26"
      },
      "source": [
        "torch.cuda.empty_cache()"
      ],
      "execution_count": null,
      "outputs": []
    },
    {
      "cell_type": "code",
      "metadata": {
        "colab": {
          "base_uri": "https://localhost:8080/"
        },
        "id": "UWdsFp0mc85B",
        "outputId": "be394b4b-b1fb-4d9f-c8e6-ece9f73cc2af"
      },
      "source": [
        "train()"
      ],
      "execution_count": null,
      "outputs": [
        {
          "output_type": "stream",
          "text": [
            "Number of epoch: 0\n",
            "Loss:  tensor(0.3407, device='cuda:0', grad_fn=<MulBackward0>)\n",
            "Loss:  tensor(0.2385, device='cuda:0', grad_fn=<MulBackward0>)\n",
            "Loss:  tensor(0.2926, device='cuda:0', grad_fn=<MulBackward0>)\n",
            "Loss:  tensor(0.3806, device='cuda:0', grad_fn=<MulBackward0>)\n",
            "Number of epoch: 1\n",
            "Loss:  tensor(0.2375, device='cuda:0', grad_fn=<MulBackward0>)\n",
            "Loss:  tensor(0.2230, device='cuda:0', grad_fn=<MulBackward0>)\n",
            "Loss:  tensor(0.2616, device='cuda:0', grad_fn=<MulBackward0>)\n",
            "Loss:  tensor(0.4981, device='cuda:0', grad_fn=<MulBackward0>)\n",
            "Number of epoch: 2\n",
            "Loss:  tensor(0.2680, device='cuda:0', grad_fn=<MulBackward0>)\n",
            "Loss:  tensor(0.2108, device='cuda:0', grad_fn=<MulBackward0>)\n",
            "Loss:  tensor(0.2186, device='cuda:0', grad_fn=<MulBackward0>)\n",
            "Loss:  tensor(0.2472, device='cuda:0', grad_fn=<MulBackward0>)\n",
            "Number of epoch: 3\n",
            "Loss:  tensor(0.2306, device='cuda:0', grad_fn=<MulBackward0>)\n",
            "Loss:  tensor(0.2207, device='cuda:0', grad_fn=<MulBackward0>)\n",
            "Loss:  tensor(0.2104, device='cuda:0', grad_fn=<MulBackward0>)\n",
            "Loss:  tensor(0.2808, device='cuda:0', grad_fn=<MulBackward0>)\n",
            "Number of epoch: 4\n",
            "Loss:  tensor(0.2154, device='cuda:0', grad_fn=<MulBackward0>)\n",
            "Loss:  tensor(0.2228, device='cuda:0', grad_fn=<MulBackward0>)\n",
            "Loss:  tensor(0.2706, device='cuda:0', grad_fn=<MulBackward0>)\n",
            "Loss:  tensor(0.2326, device='cuda:0', grad_fn=<MulBackward0>)\n"
          ],
          "name": "stdout"
        }
      ]
    },
    {
      "cell_type": "code",
      "metadata": {
        "id": "qI-jSqF9A6Ri"
      },
      "source": [
        "!mv \"TextZoom_jpeg_20.pkl\" \"/content/gdrive/MyDrive/UROP/TextZoom_Resource\""
      ],
      "execution_count": null,
      "outputs": []
    },
    {
      "cell_type": "markdown",
      "metadata": {
        "id": "cAkdc1qC5xgx"
      },
      "source": [
        "#Evaluation"
      ]
    },
    {
      "cell_type": "code",
      "metadata": {
        "colab": {
          "base_uri": "https://localhost:8080/"
        },
        "id": "jz-UADv1ifPD",
        "outputId": "3613caa9-fc5c-4ec8-ef1b-182476af0fa4"
      },
      "source": [
        "print(training_loss)"
      ],
      "execution_count": null,
      "outputs": [
        {
          "output_type": "stream",
          "text": [
            "[0.3407200276851654, 0.23846390843391418, 0.292585551738739, 0.38058358430862427, 0.23746195435523987, 0.22299450635910034, 0.26159611344337463, 0.4981400966644287, 0.26797497272491455, 0.2107529491186142, 0.21859526634216309, 0.24718481302261353, 0.23062452673912048, 0.2207319438457489, 0.2104347050189972, 0.2807972729206085, 0.21538051962852478, 0.2227843999862671, 0.2705560028553009, 0.232627272605896]\n"
          ],
          "name": "stdout"
        }
      ]
    },
    {
      "cell_type": "code",
      "metadata": {
        "colab": {
          "base_uri": "https://localhost:8080/"
        },
        "id": "Ad4vZW1ygw_V",
        "outputId": "238b62eb-474c-4813-94c6-9e872186c007"
      },
      "source": [
        "print(eval_loss)"
      ],
      "execution_count": null,
      "outputs": [
        {
          "output_type": "stream",
          "text": [
            "[0.7288363056798135, 0.30718324597804775, 0.24100508300527448, 0.3431440947517272, 0.2529895533957789, 0.2433093315170657, 0.241759616521097, 0.4990884277128404, 0.2851216908424131, 0.22811326360510242, 0.2830749094005554, 0.27848881218702565, 0.22867049565238337, 0.2232264131307602, 0.2243612843655771, 0.24536622700191313, 0.25195197256342056, 0.23516180919062707, 0.25008633973137023, 0.4217529373784219]\n"
          ],
          "name": "stdout"
        }
      ]
    },
    {
      "cell_type": "code",
      "metadata": {
        "id": "_VCMw5qDgzMg"
      },
      "source": [
        "training_loss = [0.3407200276851654, 0.23846390843391418, 0.292585551738739, 0.38058358430862427]\n",
        "eval_loss = [0.7288363056798135, 0.30718324597804775, 0.24100508300527448, 0.3431440947517272]"
      ],
      "execution_count": null,
      "outputs": []
    },
    {
      "cell_type": "code",
      "metadata": {
        "colab": {
          "base_uri": "https://localhost:8080/",
          "height": 279
        },
        "id": "knJCby1hhYrr",
        "outputId": "52a56b1d-cf44-4191-f417-2a91b99844ef"
      },
      "source": [
        "import matplotlib.pyplot as plt\n",
        "import numpy as np\n",
        "plt.plot(np.linspace(1, len(training_loss) , len(training_loss))/5, training_loss)\n",
        "plt.plot(np.linspace(1, len(eval_loss) , len(eval_loss))/5, eval_loss)\n",
        "plt.ylabel('Loss')\n",
        "plt.xlabel('Epochs')\n",
        "plt.locator_params(axis='x', nbins=20)\n",
        "plt.legend(['Training Loss', 'Validation Loss'])\n",
        "plt.savefig('result.png')\n",
        "plt.show()"
      ],
      "execution_count": null,
      "outputs": [
        {
          "output_type": "display_data",
          "data": {
            "image/png": "[encoded data removed]",
            "text/plain": [
              "<Figure size 432x288 with 1 Axes>"
            ]
          },
          "metadata": {
            "needs_background": "light"
          }
        }
      ]
    },
    {
      "cell_type": "markdown",
      "metadata": {
        "id": "VPD4j2Igh7PC"
      },
      "source": [
        "#Demonstration"
      ]
    },
    {
      "cell_type": "code",
      "metadata": {
        "colab": {
          "base_uri": "https://localhost:8080/"
        },
        "id": "Zh_1u6Ox5z4p",
        "outputId": "50314206-6201-4d59-8db5-680bceb8c859"
      },
      "source": [
        "model_eval = TSRN(scale_factor=downSample , width=image_Width , height=image_Height , STN=False , srb_nums=srb , mask=True , hidden_units=hd_u)\n",
        "model_eval.load_state_dict(torch.load('gdrive/MyDrive/UROP/TextZoom_Resource/TextZoom_jpeg_20.pkl'))"
      ],
      "execution_count": null,
      "outputs": [
        {
          "output_type": "execute_result",
          "data": {
            "text/plain": [
              "<All keys matched successfully>"
            ]
          },
          "metadata": {},
          "execution_count": 33
        }
      ]
    },
    {
      "cell_type": "code",
      "metadata": {
        "id": "2bxLIQSH6O0B"
      },
      "source": [
        "model_eval = model_eval.to(device)"
      ],
      "execution_count": null,
      "outputs": []
    },
    {
      "cell_type": "code",
      "metadata": {
        "id": "Wu1Yw_tk6lHq"
      },
      "source": [
        "eval_img = Image.open(\"/content/content/eval_jpeg/screenshot00053.jpeg\")\n",
        "eval_img = eval_img.resize((image_Height // downSample, image_Width // downSample) , Image.BICUBIC)\n",
        "img_tensor = transforms.ToTensor()(eval_img)\n",
        "\n",
        "#add mask\n",
        "mask = eval_img.convert('L')\n",
        "thres = np.array(mask).mean()\n",
        "mask = mask.point(lambda x: 0 if x > thres else 255)\n",
        "mask = transforms.ToTensor()(mask)\n",
        "img_tensor = torch.cat((img_tensor, mask), 0)\n",
        "\n",
        "img_lr = img_tensor.unsqueeze(0)"
      ],
      "execution_count": null,
      "outputs": []
    },
    {
      "cell_type": "code",
      "metadata": {
        "id": "BHBc8Opr7qwG"
      },
      "source": [
        "img_lr = img_lr.to(device)\n",
        "img_sr = model_eval(img_lr)"
      ],
      "execution_count": null,
      "outputs": []
    },
    {
      "cell_type": "code",
      "metadata": {
        "id": "NgiBEdth72UN"
      },
      "source": [
        "#將 tensor 改成 ndarray\n",
        "img_save = img_sr[0]*255\n",
        "img_save = np.transpose(img_save.cpu().detach().numpy() , (1,2,0))\n",
        "img_save = img_save[: , : , 0:3]\n",
        "img_save = np.array(img_save, dtype=np.uint8)\n",
        "\n",
        "#網路抄來的...不知道為什麼要if\n",
        "if np.ndim(img_save)>3:\n",
        "  assert img_save.shape[0] == 1\n",
        "  img_save = img_save[0]\n",
        "\n",
        "img_save = Image.fromarray(img_save , \"RGB\")\n",
        "img_save.save('output.jpeg')"
      ],
      "execution_count": null,
      "outputs": []
    },
    {
      "cell_type": "code",
      "metadata": {
        "id": "FIZlpmZa8Htj"
      },
      "source": [
        "blur_img = eval_img.resize((image_Height, image_Width), Image.BICUBIC)\n",
        "blur_img.save('blur.jpeg')\n",
        "eval_img.save('small.jpeg')"
      ],
      "execution_count": null,
      "outputs": []
    },
    {
      "cell_type": "code",
      "metadata": {
        "id": "zfgYCNtA6FOD"
      },
      "source": [],
      "execution_count": null,
      "outputs": []
    }
  ]
}