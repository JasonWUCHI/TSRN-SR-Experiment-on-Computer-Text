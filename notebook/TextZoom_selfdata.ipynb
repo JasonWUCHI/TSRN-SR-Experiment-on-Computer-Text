{
  "nbformat": 4,
  "nbformat_minor": 0,
  "metadata": {
    "accelerator": "GPU",
    "colab": {
      "provenance": [],
      "collapsed_sections": [
        "LUpgewu3ypff",
        "-p996WalRl01",
        "sgy5yrw3kc-1",
        "j2uzzfcFSCXG",
        "M6ZkpBoxxfRb",
        "QTLgDfbLOT7k",
        "M58nHKMGxmTv",
        "cAkdc1qC5xgx",
        "VPD4j2Igh7PC"
      ]
    },
    "kernelspec": {
      "display_name": "Python 3",
      "name": "python3"
    },
    "language_info": {
      "name": "python"
    }
  },
  "cells": [
    {
      "cell_type": "markdown",
      "metadata": {
        "id": "LUpgewu3ypff"
      },
      "source": [
        "#Settings"
      ]
    },
    {
      "cell_type": "code",
      "metadata": {
        "id": "GHFXAetHyo3J"
      },
      "source": [
        "BatchSize = 8\n",
        "train_path = '/content/content/train_jpeg'\n",
        "eval_path = '/content/content/eval_jpeg'\n",
        "image_Height = 256\n",
        "image_Width = 256\n",
        "downSample = 4\n",
        "\n",
        "#Model\n",
        "srb = 2\n",
        "hd_u = 32\n",
        "\n",
        "#Loss\n",
        "grd = True #gradient\n",
        "\n",
        "#Optimizer\n",
        "learning_rate = 0.01\n",
        "epochs = 500\n",
        "beta1 = 0.9\n",
        "\n",
        "#loss tracking\n",
        "training_loss = []\n",
        "eval_loss = []\n"
      ],
      "execution_count": null,
      "outputs": []
    },
    {
      "cell_type": "markdown",
      "metadata": {
        "id": "-p996WalRl01"
      },
      "source": [
        "#Load Image from drive"
      ]
    },
    {
      "cell_type": "code",
      "metadata": {
        "colab": {
          "base_uri": "https://localhost:8080/"
        },
        "id": "In4eLQYUEA8T",
        "outputId": "6986f2cf-c235-4e08-f039-59226d91de80"
      },
      "source": [
        "from google.colab import drive\n",
        "drive.mount('/content/gdrive')"
      ],
      "execution_count": null,
      "outputs": [
        {
          "output_type": "stream",
          "name": "stdout",
          "text": [
            "Drive already mounted at /content/gdrive; to attempt to forcibly remount, call drive.mount(\"/content/gdrive\", force_remount=True).\n"
          ]
        }
      ]
    },
    {
      "cell_type": "markdown",
      "source": [
        "#Create dataset"
      ],
      "metadata": {
        "id": "sgy5yrw3kc-1"
      }
    },
    {
      "cell_type": "code",
      "source": [
        "#Load libraries\n",
        "import os\n",
        "import numpy as np\n",
        "import torch\n",
        "import glob\n",
        "import torch.nn as nn\n",
        "from torchvision.transforms import transforms\n",
        "from torch.utils.data import DataLoader\n",
        "from torchvision.io import read_image\n",
        "from torch.utils.data import Dataset\n",
        "from torch.utils.data import random_split\n",
        "import torchvision\n",
        "from PIL import Image"
      ],
      "metadata": {
        "id": "2siSvBxRket8"
      },
      "execution_count": null,
      "outputs": []
    },
    {
      "cell_type": "code",
      "source": [
        "device = torch.device('cuda' if torch.cuda.is_available() else 'cpu')\n",
        "print(device)"
      ],
      "metadata": {
        "colab": {
          "base_uri": "https://localhost:8080/"
        },
        "id": "FO3oKpbbkfwg",
        "outputId": "cfe4a67c-dd2e-4cc6-9144-8e30e673bf9f"
      },
      "execution_count": null,
      "outputs": [
        {
          "output_type": "stream",
          "name": "stdout",
          "text": [
            "cuda\n"
          ]
        }
      ]
    },
    {
      "cell_type": "code",
      "source": [
        "class MyDataset(Dataset):\n",
        "  def __init__(self , sr_dir, blur_dir):\n",
        "    self.sr_dir = sr_dir\n",
        "    self.blur_dir = blur_dir\n",
        "    self.toTensor = transforms.ToTensor()\n",
        "\n",
        "  def __len__(self):\n",
        "    return len(os.listdir(self.sr_dir))\n",
        "\n",
        "  def __getitem__(self , idx):\n",
        "    img_path = os.path.join(self.sr_dir , \"%d.png\" % (idx+1))\n",
        "    sr_img = self.toTensor(Image.open(img_path).convert('RGB')) #center the image\n",
        "    img_path = os.path.join(self.blur_dir , \"%d.png\" % (idx+1))\n",
        "    blur_img = self.toTensor(Image.open(img_path).convert('RGB'))\n",
        "\n",
        "\n",
        "    return sr_img, blur_img"
      ],
      "metadata": {
        "id": "WvVOSFi6kiOd"
      },
      "execution_count": null,
      "outputs": []
    },
    {
      "cell_type": "code",
      "source": [
        "sr_dir = \"/content/gdrive/MyDrive/imgs\"\n",
        "blur_dir = \"/content/gdrive/MyDrive/blur_imgs\"\n",
        "dataset = MyDataset(sr_dir, blur_dir)"
      ],
      "metadata": {
        "id": "_EflCBXcmT9Q"
      },
      "execution_count": null,
      "outputs": []
    },
    {
      "cell_type": "code",
      "source": [
        "generator1 = torch.Generator().manual_seed(42)\n",
        "train_dataset, val_dataset, test_dataset = random_split(dataset, [0.7, 0.2, 0.1], generator=generator1)"
      ],
      "metadata": {
        "id": "h5MWH014lbe8"
      },
      "execution_count": null,
      "outputs": []
    },
    {
      "cell_type": "code",
      "source": [
        "train_loader = torch.utils.data.DataLoader(train_dataset , batch_size = BatchSize , shuffle = True,)\n",
        "val_loader = torch.utils.data.DataLoader(val_dataset , batch_size = BatchSize , shuffle = True,)\n",
        "test_loader = torch.utils.data.DataLoader(test_dataset , batch_size = BatchSize , shuffle = True,)"
      ],
      "metadata": {
        "id": "2fdpIZyrlK9d"
      },
      "execution_count": null,
      "outputs": []
    },
    {
      "cell_type": "markdown",
      "metadata": {
        "id": "j2uzzfcFSCXG"
      },
      "source": [
        "#Create dataset old"
      ]
    },
    {
      "cell_type": "code",
      "metadata": {
        "id": "XIV53pRJC7T0"
      },
      "source": [
        "#Load libraries\n",
        "import os\n",
        "import numpy as np\n",
        "import torch\n",
        "import glob\n",
        "import torch.nn as nn\n",
        "from torchvision.transforms import transforms\n",
        "from torch.utils.data import DataLoader\n",
        "from torchvision.io import read_image\n",
        "from torch.utils.data import Dataset\n",
        "import torchvision\n",
        "from PIL import Image"
      ],
      "execution_count": null,
      "outputs": []
    },
    {
      "cell_type": "code",
      "metadata": {
        "colab": {
          "base_uri": "https://localhost:8080/"
        },
        "id": "3E3WXVb_5AXp",
        "outputId": "6a50bf97-698d-4443-bfe2-516645933c1f"
      },
      "source": [
        "device = torch.device('cuda' if torch.cuda.is_available() else 'cpu')\n",
        "print(device)"
      ],
      "execution_count": null,
      "outputs": [
        {
          "output_type": "stream",
          "name": "stdout",
          "text": [
            "cuda\n"
          ]
        }
      ]
    },
    {
      "cell_type": "code",
      "metadata": {
        "id": "nHs43uLud6PC"
      },
      "source": [
        "class MyDataset(Dataset):\n",
        "  def __init__(self , img_dir , transform = None):\n",
        "    self.img_dir = img_dir\n",
        "    self.transform = transform\n",
        "\n",
        "  def __len__(self):\n",
        "    return len(os.listdir(self.img_dir))\n",
        "\n",
        "  def __getitem__(self , idx):\n",
        "    img_path = os.path.join(self.img_dir , \"screenshot%05d.png\" % idx)\n",
        "    img = Image.open(img_path).convert('RGB')\n",
        "    if self.transform:\n",
        "      img = self.transform(img)\n",
        "    return img"
      ],
      "execution_count": null,
      "outputs": []
    },
    {
      "cell_type": "code",
      "metadata": {
        "id": "pqBup0a8ucda"
      },
      "source": [
        "class resizeNormalize(object):\n",
        "    def __init__(self, size, mask=False, interpolation=Image.BICUBIC):\n",
        "        self.size = size\n",
        "        self.interpolation = interpolation\n",
        "        self.toTensor = transforms.ToTensor()\n",
        "        self.mask = mask\n",
        "\n",
        "    def __call__(self, img):\n",
        "        img = img.resize(self.size, self.interpolation)\n",
        "        img_tensor = self.toTensor(img)\n",
        "        if self.mask:\n",
        "            mask = img.convert('L')\n",
        "            thres = np.array(mask).mean()\n",
        "            mask = mask.point(lambda x: 0 if x > thres else 255)\n",
        "            mask = self.toTensor(mask)\n",
        "            img_tensor = torch.cat((img_tensor, mask), 0)\n",
        "        return img_tensor\n",
        "\n",
        "class alignCollate_syn(object):\n",
        "    def __init__(self, imgH=64, imgW=256, down_sample_scale=4, keep_ratio=False, min_ratio=1, mask=False):\n",
        "        self.imgH = imgH\n",
        "        self.imgW = imgW\n",
        "        self.keep_ratio = keep_ratio\n",
        "        self.min_ratio = min_ratio\n",
        "        self.down_sample_scale = down_sample_scale\n",
        "        self.mask = mask\n",
        "\n",
        "    def __call__(self, batch):\n",
        "        #images = zip(*batch)\n",
        "        images = batch\n",
        "        imgH = self.imgH\n",
        "        imgW = self.imgW\n",
        "        transform = resizeNormalize((imgW, imgH), self.mask)\n",
        "        transform2 = resizeNormalize((imgW // self.down_sample_scale, imgH // self.down_sample_scale), self.mask)\n",
        "\n",
        "        images_hr = [transform(image) for image in images]\n",
        "        images_hr = torch.cat([t.unsqueeze(0) for t in images_hr], 0)\n",
        "\n",
        "        images_lr = [image.resize((image.size[0]//self.down_sample_scale, image.size[1]//self.down_sample_scale), Image.BICUBIC) for image in images]\n",
        "        images_lr = [transform2(image) for image in images_lr]\n",
        "        images_lr = torch.cat([t.unsqueeze(0) for t in images_lr], 0)\n",
        "\n",
        "        return images_hr, images_lr"
      ],
      "execution_count": null,
      "outputs": []
    },
    {
      "cell_type": "code",
      "metadata": {
        "id": "yYbwL_zxR71n"
      },
      "source": [
        "# train_path = '/content/self_train_1'\n",
        "# train_dataset = MyDataset(train_path)"
      ],
      "execution_count": null,
      "outputs": []
    },
    {
      "cell_type": "code",
      "metadata": {
        "id": "YcZL8QLhSYbu"
      },
      "source": [
        "# train_loader = torch.utils.data.DataLoader(\n",
        "#     train_dataset , batch_size = BatchSize , shuffle = True , collate_fn = alignCollate_syn(imgH = image_Height, imgW = image_Width, down_sample_scale=downSample, mask = True) , drop_last = True\n",
        "# )"
      ],
      "execution_count": null,
      "outputs": []
    },
    {
      "cell_type": "markdown",
      "metadata": {
        "id": "M6ZkpBoxxfRb"
      },
      "source": [
        "#Building Models"
      ]
    },
    {
      "cell_type": "code",
      "metadata": {
        "id": "BMsxjEs-xlyD"
      },
      "source": [
        "import math\n",
        "import time\n",
        "import torch.nn.functional as F\n",
        "from collections import OrderedDict\n",
        "import sys\n",
        "from torch.nn import init\n",
        "from IPython import embed"
      ],
      "execution_count": null,
      "outputs": []
    },
    {
      "cell_type": "code",
      "metadata": {
        "id": "XlBPsrWc7V3U"
      },
      "source": [
        "class GruBlock(nn.Module):\n",
        "  def __init__(self, in_channels, out_channels):\n",
        "    super(GruBlock, self).__init__()\n",
        "    assert out_channels % 2 == 0\n",
        "    self.conv1 = nn.Conv2d(in_channels , out_channels , kernel_size=1 , padding = 0)\n",
        "    self.gru = nn.GRU(out_channels , out_channels // 2 , bidirectional = True , batch_first = True)\n",
        "\n",
        "  def forward(self , x):\n",
        "    x = self.conv1(x)\n",
        "    x = x.permute(0 , 2 , 3 ,1).contiguous()\n",
        "    b = x.size()\n",
        "    x = x.view(b[0] * b[1], b[2], b[3])\n",
        "    x , _ = self.gru(x)\n",
        "    x = x.view(b[0] , b[1] , b[2] , b[3])\n",
        "    x = x.permute(0 , 3 , 1 , 2)\n",
        "    return x"
      ],
      "execution_count": null,
      "outputs": []
    },
    {
      "cell_type": "code",
      "metadata": {
        "id": "wMU0JO5X9xJB"
      },
      "source": [
        "class mish(nn.Module):\n",
        "  def __init__(self,):\n",
        "    super(mish , self).__init__()\n",
        "    self.activated = True\n",
        "\n",
        "  def forward(self , x):\n",
        "    if self.activated:\n",
        "      x = x * (torch.tanh(F.softplus(x)))\n",
        "    return x"
      ],
      "execution_count": null,
      "outputs": []
    },
    {
      "cell_type": "code",
      "metadata": {
        "id": "a9mi3o4g5eSu"
      },
      "source": [
        "class RecurrentResidualBlock(nn.Module):\n",
        "  def __init__(self, channels):\n",
        "    super(RecurrentResidualBlock, self).__init__()\n",
        "    self.conv1 = nn.Conv2d(channels, channels, kernel_size = 3 , padding = 1)\n",
        "    self.bn1 = nn.BatchNorm2d(channels)\n",
        "    self.gru1 = GruBlock(channels , channels)\n",
        "    self.prelu = mish()\n",
        "    self.conv2 = nn.Conv2d(channels , channels , kernel_size=3 , padding=1)\n",
        "    self.bn2 = nn.BatchNorm2d(channels)\n",
        "    self.gru2 = GruBlock(channels , channels)\n",
        "\n",
        "  def forward(self , x):\n",
        "    residual = self.conv1(x)\n",
        "    residual = self.bn1(residual)\n",
        "    residual = self.prelu(residual)\n",
        "    residual = self.conv2(residual)\n",
        "    residual = self.bn2(residual)\n",
        "    residual = self.gru1(residual.transpose(-1 , -2)).transpose(-1,-2)\n",
        "\n",
        "    return self.gru2(x+residual)"
      ],
      "execution_count": null,
      "outputs": []
    },
    {
      "cell_type": "code",
      "metadata": {
        "id": "zd7Xz4vwF1yT"
      },
      "source": [
        "class UpsampleBlock(nn.Module):\n",
        "  def __init__(self, in_channels , upscale):\n",
        "    super(UpsampleBlock , self).__init__()\n",
        "    self.conv = nn.Conv2d(in_channels , in_channels * upscale ** 2 , kernel_size=3 , padding=1)\n",
        "    self.pixel_shuffle = nn.PixelShuffle(upscale)\n",
        "    self.prelu = mish()\n",
        "\n",
        "  def forward(self , x):\n",
        "    x = self.conv(x)\n",
        "    x = self.pixel_shuffle(x)\n",
        "    x = self.prelu(x)\n",
        "    return x"
      ],
      "execution_count": null,
      "outputs": []
    },
    {
      "cell_type": "code",
      "metadata": {
        "id": "Udkr0HFM3LwF"
      },
      "source": [
        "class TSRN(nn.Module):\n",
        "  def __init__(self , scale_factor=4 , width=128 , height=32 , STN=False , srb_nums=5, mask=True, hidden_units=32 ):\n",
        "    super(TSRN, self).__init__()\n",
        "    in_planes = 3\n",
        "    if mask:\n",
        "      in_planes = 4\n",
        "\n",
        "    # assert math.log(scale_factor,2)%1 == 0\n",
        "    # upsample_block_num = int(math.log(scale_factor,2))\n",
        "\n",
        "\n",
        "    self.block1 = nn.Sequential(\n",
        "        nn.Conv2d(in_planes , 2* hidden_units , kernel_size=9 , padding = 4),\n",
        "        nn.PReLU()\n",
        "    )\n",
        "    self.srb_nums = srb_nums\n",
        "\n",
        "    srb_blocks = [RecurrentResidualBlock(2*hidden_units) for _ in range(srb_nums)]\n",
        "    srb_blocks += [nn.Conv2d(2*hidden_units , 2*hidden_units , kernel_size = 3 , padding=1),nn.BatchNorm2d(2*hidden_units)]\n",
        "    self.srb_blocks = nn.Sequential(*srb_blocks)\n",
        "    # for i in range(srb_nums):\n",
        "    #   setattr(self , 'block%d' % (i+2), RecurrentResidualBlock(2*hidden_units))\n",
        "\n",
        "    # setattr(self , 'block%d' % (srb_nums+2),\n",
        "    #         nn.Sequential(\n",
        "    #             nn.Conv2d(2*hidden_units , 2*hidden_units , kernel_size = 3 , padding=1),\n",
        "    #             nn.BatchNorm2d(2*hidden_units)\n",
        "    #         ))\n",
        "\n",
        "    # block_ = [UpsampleBlock(2*hidden_units , 2) for _ in range(upsample_block_num)]\n",
        "    # block_.append(nn.Conv2d(2*hidden_units , in_planes ,  kernel_size=9 , padding = 4))\n",
        "    # self.upsample_blocks = nn.Sequential(*block_)\n",
        "    self.upsample_blocks = nn.Conv2d(2*hidden_units , in_planes ,  kernel_size=9 , padding = 4)\n",
        "    #setattr(self, 'block%d' % (srb_nums+3) , nn.Sequential(*block_))\n",
        "\n",
        "    # self.tps_inputsize = [32, 64]\n",
        "    # tps_outputsize = [height//scale_factor, width//scale_factor]\n",
        "    # num_control_points = 20\n",
        "    # tps_margins = [0.05, 0.05]\n",
        "    # self.stn = STN\n",
        "    # if self.stn:\n",
        "    #     self.tps = TPSSpatialTransformer(\n",
        "    #         output_image_size=tuple(tps_outputsize),\n",
        "    #         num_control_points=num_control_points,\n",
        "    #         margins=tuple(tps_margins))\n",
        "\n",
        "    #     self.stn_head = STNHead(\n",
        "    #         in_planes=in_planes,\n",
        "    #         num_ctrlpoints=num_control_points,\n",
        "    #         activation='none')\n",
        "\n",
        "  def forward(self , x):\n",
        "    # if self.stn and self.training:\n",
        "    #   x = F.interpolate(x, self.tps_inputsize, mode='bilinear', align_corners=True)\n",
        "    #   _, ctrl_points_x = self.stn_head(x)\n",
        "    #   x, _ = self.tps(x, ctrl_points_x)\n",
        "    block = self.block1(x)\n",
        "    block2 = self.srb_blocks(block)\n",
        "    output = torch.tanh(self.upsample_blocks(block+block2))\n",
        "    # for i in range(self.srb_nums + 1):\n",
        "    #   block[str(i+2)] = getattr(self, 'block%d' % (i+2))(block[str(i+1)])\n",
        "\n",
        "    #block[str(self.srb_nums + 3)] = getattr(self, 'block%d' % (self.srb_nums + 3))((block['1'] + block[str(self.srb_nums + 2)]))\n",
        "    #output = torch.tanh(block[str(self.srb_nums + 3)])\n",
        "\n",
        "    #print(block['1'].shape, output.shape)\n",
        "\n",
        "    return output"
      ],
      "execution_count": null,
      "outputs": []
    },
    {
      "cell_type": "markdown",
      "metadata": {
        "id": "QTLgDfbLOT7k"
      },
      "source": [
        "#Loss"
      ]
    },
    {
      "cell_type": "code",
      "metadata": {
        "id": "WNdMMU8N1m1t"
      },
      "source": [
        "class GradientPriorLoss(nn.Module):\n",
        "  def __init__(self , ):\n",
        "    super(GradientPriorLoss , self).__init__()\n",
        "    self.func = nn.L1Loss()\n",
        "\n",
        "  def forward(self , out_images , target_images):\n",
        "    map_out = self.gradient_map(out_images)\n",
        "    map_target = self.gradient_map(target_images)\n",
        "    return self.func(map_out , map_target)\n",
        "\n",
        "  @staticmethod\n",
        "  def gradient_map(x):\n",
        "    batch_size , channel , h_x , w_x = x.size()\n",
        "    r = F.pad(x , (0,1,0,0))[: , : , : , 1:]\n",
        "    l = F.pad(x , (1,0,0,0))[: , : , : , :w_x]\n",
        "    t = F.pad(x , (0,0,1,0))[: , : , :h_x , :]\n",
        "    b = F.pad(x , (0,0,0,1))[: , : , 1: , :]\n",
        "    xgrad = torch.pow(torch.pow((r-l)*0.5 , 2) + torch.pow((t-b)*0.5 , 2)+1e-6 , 0.5)\n",
        "    return xgrad"
      ],
      "execution_count": null,
      "outputs": []
    },
    {
      "cell_type": "code",
      "metadata": {
        "id": "xQDBouv7OTIU"
      },
      "source": [
        "class ImageLoss(nn.Module):\n",
        "  def __init__(self , gradient = True , loss_weight = [20 , 1e-4]):\n",
        "    super(ImageLoss , self).__init__()\n",
        "    self.mse = nn.MSELoss()\n",
        "    if gradient:\n",
        "      self.GPLoss = GradientPriorLoss()\n",
        "    self.gradient = gradient\n",
        "    self.loss_weight = loss_weight\n",
        "\n",
        "  def forward(self , out_images, target_images):\n",
        "    if self.gradient:\n",
        "      loss = self.loss_weight[0] * self.mse(out_images , target_images) + \\\n",
        "             self.loss_weight[1] * self.GPLoss(out_images[: , :3 , : , :], target_images[: , :3 , : , :])\n",
        "    else:\n",
        "      loss = self.loss_weight[0] * self.mse(out_images , target_images)\n",
        "    return loss\n"
      ],
      "execution_count": null,
      "outputs": []
    },
    {
      "cell_type": "markdown",
      "source": [
        "#Training New"
      ],
      "metadata": {
        "id": "VeAi2ziPrHLD"
      }
    },
    {
      "cell_type": "code",
      "source": [
        "from torch.optim.lr_scheduler import CosineAnnealingLR"
      ],
      "metadata": {
        "id": "G-xuZEq-sK-4"
      },
      "execution_count": null,
      "outputs": []
    },
    {
      "cell_type": "code",
      "source": [
        "def train(model):\n",
        "  model = model.to(device)\n",
        "  image_crit = ImageLoss(gradient=grd, loss_weight=[1 , 1e-2])\n",
        "  image_crit = image_crit.to(device)\n",
        "  optimizer_G = torch.optim.Adam(model.parameters() , lr=1e-4 , betas=(beta1,0.999))\n",
        "  scheduler = CosineAnnealingLR(optimizer_G, T_max=300, eta_min=0)\n",
        "\n",
        "  for epoch in range(1,31):\n",
        "    print(\"Number of epoch:\" , epoch)\n",
        "    train_loss = 0\n",
        "    for j, data in (enumerate(train_loader)):\n",
        "      model.train() #verify that model is training instead of evaluating\n",
        "      optimizer_G.zero_grad()\n",
        "\n",
        "      images_hr , images_lr = data #[16,3,256,256]\n",
        "      images_lr = images_lr.to(device)\n",
        "      images_hr = images_hr.to(device)\n",
        "      image_sr = model(images_lr)\n",
        "\n",
        "      loss_im = image_crit(image_sr , images_hr).mean()\n",
        "\n",
        "      loss_im.backward()\n",
        "\n",
        "      optimizer_G.step()\n",
        "\n",
        "      #torch.cuda.empty_cache()\n",
        "      if j%30==0:\n",
        "        print(\"Loss check: \", loss_im.item())\n",
        "\n",
        "      train_loss += loss_im.item()*len(data)\n",
        "    scheduler.step()\n",
        "\n",
        "    print(\"Train Loss: \", train_loss/len(train_dataset))\n",
        "\n",
        "    if epoch%5==0:\n",
        "      with torch.no_grad():\n",
        "        if epoch==5:\n",
        "          for j, data in (enumerate(val_loader)):\n",
        "            sample_hr, sample_lr = data\n",
        "            sample_hr, sample_lr = sample_hr.to(device), sample_lr.to(device)\n",
        "            break\n",
        "\n",
        "          trans = transforms.ToPILImage()\n",
        "          img = trans(sample_lr[0])\n",
        "          img = img.save(\"/content/gdrive/MyDrive/sample_imgs/same100_lr_%d.png\" % epoch)\n",
        "          img = trans(sample_hr[0])\n",
        "          img = img.save(\"/content/gdrive/MyDrive/sample_imgs/same100_hr_%d.png\" % epoch)\n",
        "\n",
        "        model.eval()\n",
        "        output = model(sample_lr)\n",
        "        img = trans(output[0]) #reverse the preprocessing\n",
        "        img = img.save(\"/content/gdrive/MyDrive/sample_imgs/same100_trans_%d.png\" % epoch)\n",
        "\n",
        "        validation_loss = 0\n",
        "        for j, data in (enumerate(val_loader)):\n",
        "          model.eval()\n",
        "          images_hr, images_lr = data\n",
        "          images_lr = images_lr.to(device)\n",
        "          images_hr = images_hr.to(device)\n",
        "          image_sr = model(images_lr)\n",
        "\n",
        "          loss_im = image_crit(image_sr , images_hr).mean() * 100\n",
        "          validation_loss += loss_im.item()*len(data)\n",
        "\n",
        "        print(\"Validation Loss: \", validation_loss/len(val_dataset))\n",
        "        torch.save(model.state_dict(), \"/content/gdrive/MyDrive/model_ckpt/100_%d.ckpt\" % epoch)\n"
      ],
      "metadata": {
        "id": "smwWSuJGrF66"
      },
      "execution_count": null,
      "outputs": []
    },
    {
      "cell_type": "code",
      "source": [
        "model = TSRN(scale_factor=1 , width=image_Width , height=image_Height , STN=False , srb_nums=srb , mask=False , hidden_units=hd_u)"
      ],
      "metadata": {
        "id": "ZbJRNJ11uKlG"
      },
      "execution_count": null,
      "outputs": []
    },
    {
      "cell_type": "code",
      "source": [
        "train(model)"
      ],
      "metadata": {
        "colab": {
          "base_uri": "https://localhost:8080/"
        },
        "id": "fhn0zAVkrMYX",
        "outputId": "e5492965-7800-45f5-a2f8-a5c06fb44dad"
      },
      "execution_count": null,
      "outputs": [
        {
          "output_type": "stream",
          "name": "stdout",
          "text": [
            "Number of epoch: 1\n",
            "Loss check:  1.0117002725601196\n",
            "Loss check:  0.04881472885608673\n",
            "Loss check:  0.03950003162026405\n",
            "Train Loss:  0.021390266716480255\n",
            "Number of epoch: 2\n",
            "Loss check:  0.034241095185279846\n",
            "Loss check:  0.033878426998853683\n",
            "Loss check:  0.03087824583053589\n",
            "Train Loss:  0.00881199258246592\n",
            "Number of epoch: 3\n",
            "Loss check:  0.033622778952121735\n",
            "Loss check:  0.027690276503562927\n",
            "Loss check:  0.02583080157637596\n",
            "Train Loss:  0.007538004985877446\n",
            "Number of epoch: 4\n",
            "Loss check:  0.026255296543240547\n",
            "Loss check:  0.026182644069194794\n",
            "Loss check:  0.025343991816043854\n",
            "Train Loss:  0.006527264591838632\n",
            "Number of epoch: 5\n",
            "Loss check:  0.025357229635119438\n",
            "Loss check:  0.022532615810632706\n",
            "Loss check:  0.021797195076942444\n",
            "Train Loss:  0.005883581515933786\n",
            "Validation Loss:  0.5568509435653687\n",
            "Number of epoch: 6\n",
            "Loss check:  0.022082192823290825\n",
            "Loss check:  0.02146213687956333\n",
            "Loss check:  0.02018149569630623\n",
            "Train Loss:  0.005359854506594794\n",
            "Number of epoch: 7\n",
            "Loss check:  0.0217728391289711\n",
            "Loss check:  0.019604919478297234\n",
            "Loss check:  0.019786279648542404\n",
            "Train Loss:  0.005015640258789062\n",
            "Number of epoch: 8\n",
            "Loss check:  0.02027605101466179\n",
            "Loss check:  0.018899990245699883\n",
            "Loss check:  0.018271079286932945\n",
            "Train Loss:  0.004716763640088694\n",
            "Number of epoch: 9\n",
            "Loss check:  0.019687065854668617\n",
            "Loss check:  0.01754729263484478\n",
            "Loss check:  0.01761879026889801\n",
            "Train Loss:  0.004511462561786175\n",
            "Number of epoch: 10\n",
            "Loss check:  0.017359962686896324\n",
            "Loss check:  0.018511639907956123\n",
            "Loss check:  0.01761876791715622\n",
            "Train Loss:  0.004338925741612911\n",
            "Validation Loss:  0.4442465901374817\n",
            "Number of epoch: 11\n",
            "Loss check:  0.016612734645605087\n",
            "Loss check:  0.016876501962542534\n",
            "Loss check:  0.01661720499396324\n",
            "Train Loss:  0.004145395628043584\n",
            "Number of epoch: 12\n",
            "Loss check:  0.016796674579381943\n",
            "Loss check:  0.015453620813786983\n",
            "Loss check:  0.016222268342971802\n",
            "Train Loss:  0.004006364324263164\n",
            "Number of epoch: 13\n",
            "Loss check:  0.014691498130559921\n",
            "Loss check:  0.015324108302593231\n",
            "Loss check:  0.016433924436569214\n",
            "Train Loss:  0.0038582137759242737\n",
            "Number of epoch: 14\n",
            "Loss check:  0.01528848521411419\n",
            "Loss check:  0.01585574820637703\n",
            "Loss check:  0.01517041027545929\n",
            "Train Loss:  0.003719290452344077\n",
            "Number of epoch: 15\n",
            "Loss check:  0.013356727547943592\n",
            "Loss check:  0.014761308208107948\n",
            "Loss check:  0.014442863874137402\n",
            "Train Loss:  0.0036560896890504018\n",
            "Validation Loss:  0.36369667172431946\n",
            "Number of epoch: 16\n",
            "Loss check:  0.014108612202107906\n",
            "Loss check:  0.014390574768185616\n",
            "Loss check:  0.013422764837741852\n",
            "Train Loss:  0.003573208235736404\n",
            "Number of epoch: 17\n",
            "Loss check:  0.01277554128319025\n",
            "Loss check:  0.0142015116289258\n",
            "Loss check:  0.013444303534924984\n",
            "Train Loss:  0.0034782361425459386\n",
            "Number of epoch: 18\n",
            "Loss check:  0.012586897239089012\n",
            "Loss check:  0.013575425371527672\n",
            "Loss check:  0.01327748503535986\n",
            "Train Loss:  0.0033484993342842375\n",
            "Number of epoch: 19\n",
            "Loss check:  0.013201270252466202\n",
            "Loss check:  0.013285013847053051\n",
            "Loss check:  0.012795557267963886\n",
            "Train Loss:  0.0032741140840309006\n",
            "Number of epoch: 20\n",
            "Loss check:  0.012852456420660019\n",
            "Loss check:  0.01225607842206955\n",
            "Loss check:  0.013024241663515568\n",
            "Train Loss:  0.0032165616910372462\n",
            "Validation Loss:  0.3288874089717865\n",
            "Number of epoch: 21\n",
            "Loss check:  0.012004571966826916\n",
            "Loss check:  0.013374155387282372\n",
            "Loss check:  0.012743065133690834\n",
            "Train Loss:  0.0032025709615222044\n",
            "Number of epoch: 22\n",
            "Loss check:  0.012832440435886383\n",
            "Loss check:  0.013545071706175804\n",
            "Loss check:  0.01143126655369997\n",
            "Train Loss:  0.0031058150343596935\n",
            "Number of epoch: 23\n",
            "Loss check:  0.012851803563535213\n",
            "Loss check:  0.01200560200959444\n",
            "Loss check:  0.011754046194255352\n",
            "Train Loss:  0.0030054556259087152\n",
            "Number of epoch: 24\n",
            "Loss check:  0.012240199372172356\n",
            "Loss check:  0.011542543768882751\n",
            "Loss check:  0.012367294169962406\n",
            "Train Loss:  0.002995802965015173\n",
            "Number of epoch: 25\n",
            "Loss check:  0.012245356105268002\n",
            "Loss check:  0.01071962434798479\n",
            "Loss check:  0.011592067778110504\n",
            "Train Loss:  0.0028996730649045537\n",
            "Validation Loss:  0.28878158926963804\n",
            "Number of epoch: 26\n",
            "Loss check:  0.01130594965070486\n",
            "Loss check:  0.011613970622420311\n",
            "Loss check:  0.01106324139982462\n",
            "Train Loss:  0.002851437261062009\n",
            "Number of epoch: 27\n",
            "Loss check:  0.011081602424383163\n",
            "Loss check:  0.010706373490393162\n",
            "Loss check:  0.012238027527928352\n",
            "Train Loss:  0.0028578623197972773\n",
            "Number of epoch: 28\n",
            "Loss check:  0.011504044756293297\n",
            "Loss check:  0.011267677880823612\n",
            "Loss check:  0.01128692738711834\n",
            "Train Loss:  0.0027585148039673056\n",
            "Number of epoch: 29\n",
            "Loss check:  0.010896212421357632\n",
            "Loss check:  0.010180007666349411\n",
            "Loss check:  0.010390334762632847\n",
            "Train Loss:  0.0026961991536830154\n",
            "Number of epoch: 30\n",
            "Loss check:  0.01075667329132557\n",
            "Loss check:  0.012840707786381245\n",
            "Loss check:  0.009981478564441204\n",
            "Train Loss:  0.0027447275977049556\n",
            "Validation Loss:  0.2734082019329071\n"
          ]
        }
      ]
    },
    {
      "cell_type": "code",
      "source": [
        "for j, data in (enumerate(train_loader)):\n",
        "  images_hr, images_lr = data\n",
        "  images_lr = images_lr.to(device)\n",
        "  break\n",
        "\n",
        "model.eval()\n",
        "trans = transforms.ToPILImage()\n",
        "img = trans(images_lr[0]) #reverse the preprocessing\n",
        "img = img.save(\"hi.png\")\n",
        "\n",
        "output = model(images_lr)\n",
        "img = trans(output[0]) #reverse the preprocessing\n",
        "img = img.save(\"hi1.png\")"
      ],
      "metadata": {
        "id": "qBp2VDose6fj"
      },
      "execution_count": null,
      "outputs": []
    },
    {
      "cell_type": "markdown",
      "metadata": {
        "id": "M58nHKMGxmTv"
      },
      "source": [
        "#Training"
      ]
    },
    {
      "cell_type": "code",
      "metadata": {
        "id": "zyoE5j3sLX42"
      },
      "source": [
        "def eval(model):\n",
        "  eval_dataset = MyDataset(eval_path)\n",
        "  eval_loader = torch.utils.data.DataLoader(\n",
        "      eval_dataset, batch_size = BatchSize, shuffle = True, collate_fn = alignCollate_syn(imgH = image_Height, imgW= image_Width, down_sample_scale=downSample, mask = True), drop_last = True\n",
        "  )\n",
        "\n",
        "  image_crit = ImageLoss(gradient=grd, loss_weight=[1 , 1e-4])\n",
        "  image_crit = image_crit.to(device)\n",
        "\n",
        "  loss_list = []\n",
        "\n",
        "  model.eval()\n",
        "  for j, data in (enumerate(eval_loader)):\n",
        "    for p in model.parameters():\n",
        "      p.requires_grad = False\n",
        "\n",
        "    images_hr , images_lr = data\n",
        "    images_lr = images_lr.to(device)\n",
        "    images_hr = images_hr.to(device)\n",
        "\n",
        "    images_sr = model(images_lr)\n",
        "    loss_im_eval = image_crit(images_sr,images_hr).mean() * 100\n",
        "    loss_list.append(loss_im_eval.item())\n",
        "    torch.cuda.empty_cache()\n",
        "\n",
        "  eval_loss.append(sum(loss_list)/len(loss_list))\n"
      ],
      "execution_count": null,
      "outputs": []
    },
    {
      "cell_type": "code",
      "metadata": {
        "id": "IZ0god3EVPu9"
      },
      "source": [
        "def train():\n",
        "  # model = TSRN(scale_factor=downSample , width=image_Width , height=image_Height , STN=False , srb_nums=srb , mask=True , hidden_units=hd_u)\n",
        "  # model = model.to(device)\n",
        "  image_crit = ImageLoss(gradient=grd, loss_weight=[1 , 1e-2])\n",
        "  image_crit = image_crit.to(device)\n",
        "  optimizer_G = torch.optim.Adam(model.parameters() , lr=learning_rate , betas=(beta1,0.999))\n",
        "\n",
        "  for epoch in range(5):\n",
        "    print(\"Number of epoch:\" , epoch)\n",
        "    for j, data in (enumerate(train_loader)):\n",
        "      # model.train() #verify that model is training instead of evaluating\n",
        "\n",
        "      # for p in model.parameters():\n",
        "      #   p.requires_grad = True\n",
        "      iters = len(train_loader) * epoch + j + 1\n",
        "\n",
        "      images_hr , images_lr = data\n",
        "      print(images_hr.shape, images_lr.shape)\n",
        "\n",
        "      images_lr = images_lr.to(device)\n",
        "      images_hr = images_hr.to(device)\n",
        "\n",
        "      image_sr = model(images_lr)\n",
        "      loss_im = image_crit(image_sr , images_hr).mean() * 100\n",
        "\n",
        "      optimizer_G.zero_grad()\n",
        "      loss_im.backward()\n",
        "      torch.nn.utils.clip_grad_norm_(model.parameters(), 0.25)\n",
        "      optimizer_G.step()\n",
        "\n",
        "      torch.cuda.empty_cache()\n",
        "\n",
        "      if j % 200 == 0:\n",
        "        print(\"Loss: \", loss_im)\n",
        "        training_loss.append(loss_im.item())\n",
        "        eval(model)\n",
        "\n",
        "  torch.save(model.state_dict(), 'TextZoom_jpeg_20.pkl')\n",
        "\n"
      ],
      "execution_count": null,
      "outputs": []
    },
    {
      "cell_type": "code",
      "metadata": {
        "id": "KkDwr7mEG_26"
      },
      "source": [
        "torch.cuda.empty_cache()"
      ],
      "execution_count": null,
      "outputs": []
    },
    {
      "cell_type": "code",
      "metadata": {
        "colab": {
          "base_uri": "https://localhost:8080/"
        },
        "id": "UWdsFp0mc85B",
        "outputId": "be394b4b-b1fb-4d9f-c8e6-ece9f73cc2af"
      },
      "source": [
        "train()"
      ],
      "execution_count": null,
      "outputs": [
        {
          "output_type": "stream",
          "text": [
            "Number of epoch: 0\n",
            "Loss:  tensor(0.3407, device='cuda:0', grad_fn=<MulBackward0>)\n",
            "Loss:  tensor(0.2385, device='cuda:0', grad_fn=<MulBackward0>)\n",
            "Loss:  tensor(0.2926, device='cuda:0', grad_fn=<MulBackward0>)\n",
            "Loss:  tensor(0.3806, device='cuda:0', grad_fn=<MulBackward0>)\n",
            "Number of epoch: 1\n",
            "Loss:  tensor(0.2375, device='cuda:0', grad_fn=<MulBackward0>)\n",
            "Loss:  tensor(0.2230, device='cuda:0', grad_fn=<MulBackward0>)\n",
            "Loss:  tensor(0.2616, device='cuda:0', grad_fn=<MulBackward0>)\n",
            "Loss:  tensor(0.4981, device='cuda:0', grad_fn=<MulBackward0>)\n",
            "Number of epoch: 2\n",
            "Loss:  tensor(0.2680, device='cuda:0', grad_fn=<MulBackward0>)\n",
            "Loss:  tensor(0.2108, device='cuda:0', grad_fn=<MulBackward0>)\n",
            "Loss:  tensor(0.2186, device='cuda:0', grad_fn=<MulBackward0>)\n",
            "Loss:  tensor(0.2472, device='cuda:0', grad_fn=<MulBackward0>)\n",
            "Number of epoch: 3\n",
            "Loss:  tensor(0.2306, device='cuda:0', grad_fn=<MulBackward0>)\n",
            "Loss:  tensor(0.2207, device='cuda:0', grad_fn=<MulBackward0>)\n",
            "Loss:  tensor(0.2104, device='cuda:0', grad_fn=<MulBackward0>)\n",
            "Loss:  tensor(0.2808, device='cuda:0', grad_fn=<MulBackward0>)\n",
            "Number of epoch: 4\n",
            "Loss:  tensor(0.2154, device='cuda:0', grad_fn=<MulBackward0>)\n",
            "Loss:  tensor(0.2228, device='cuda:0', grad_fn=<MulBackward0>)\n",
            "Loss:  tensor(0.2706, device='cuda:0', grad_fn=<MulBackward0>)\n",
            "Loss:  tensor(0.2326, device='cuda:0', grad_fn=<MulBackward0>)\n"
          ],
          "name": "stdout"
        }
      ]
    },
    {
      "cell_type": "code",
      "metadata": {
        "id": "qI-jSqF9A6Ri"
      },
      "source": [
        "!mv \"TextZoom_jpeg_20.pkl\" \"/content/gdrive/MyDrive/UROP/TextZoom_Resource\""
      ],
      "execution_count": null,
      "outputs": []
    },
    {
      "cell_type": "markdown",
      "source": [
        "#Denoising"
      ],
      "metadata": {
        "id": "1DLuiQGTLoo7"
      }
    },
    {
      "cell_type": "code",
      "source": [
        "import numpy as np\n",
        "import cv2 as cv\n",
        "from matplotlib import pyplot as plt\n",
        "img = cv.imread('/content/gdrive/MyDrive/sample_imgs/same5_trans_15.png')\n",
        "dst = cv.fastNlMeansDenoisingColored(img,10,10,10,7,21)\n",
        "plt.subplot(121),plt.imshow(img)\n",
        "plt.subplot(122),plt.imshow(dst)\n",
        "plt.show()"
      ],
      "metadata": {
        "colab": {
          "base_uri": "https://localhost:8080/",
          "height": 291
        },
        "id": "NvzRXuedLqvj",
        "outputId": "043d7f8c-2065-4f4e-88ca-62797fd7e531"
      },
      "execution_count": null,
      "outputs": [
        {
          "output_type": "display_data",
          "data": {
            "text/plain": [
              "<Figure size 640x480 with 2 Axes>"
            ],
            "image/png": "[encoded data removed]"
          },
          "metadata": {}
        }
      ]
    },
    {
      "cell_type": "markdown",
      "metadata": {
        "id": "cAkdc1qC5xgx"
      },
      "source": [
        "#Evaluation"
      ]
    },
    {
      "cell_type": "code",
      "metadata": {
        "colab": {
          "base_uri": "https://localhost:8080/"
        },
        "id": "jz-UADv1ifPD",
        "outputId": "3613caa9-fc5c-4ec8-ef1b-182476af0fa4"
      },
      "source": [
        "print(training_loss)"
      ],
      "execution_count": null,
      "outputs": [
        {
          "output_type": "stream",
          "text": [
            "[0.3407200276851654, 0.23846390843391418, 0.292585551738739, 0.38058358430862427, 0.23746195435523987, 0.22299450635910034, 0.26159611344337463, 0.4981400966644287, 0.26797497272491455, 0.2107529491186142, 0.21859526634216309, 0.24718481302261353, 0.23062452673912048, 0.2207319438457489, 0.2104347050189972, 0.2807972729206085, 0.21538051962852478, 0.2227843999862671, 0.2705560028553009, 0.232627272605896]\n"
          ],
          "name": "stdout"
        }
      ]
    },
    {
      "cell_type": "code",
      "metadata": {
        "colab": {
          "base_uri": "https://localhost:8080/"
        },
        "id": "Ad4vZW1ygw_V",
        "outputId": "238b62eb-474c-4813-94c6-9e872186c007"
      },
      "source": [
        "print(eval_loss)"
      ],
      "execution_count": null,
      "outputs": [
        {
          "output_type": "stream",
          "text": [
            "[0.7288363056798135, 0.30718324597804775, 0.24100508300527448, 0.3431440947517272, 0.2529895533957789, 0.2433093315170657, 0.241759616521097, 0.4990884277128404, 0.2851216908424131, 0.22811326360510242, 0.2830749094005554, 0.27848881218702565, 0.22867049565238337, 0.2232264131307602, 0.2243612843655771, 0.24536622700191313, 0.25195197256342056, 0.23516180919062707, 0.25008633973137023, 0.4217529373784219]\n"
          ],
          "name": "stdout"
        }
      ]
    },
    {
      "cell_type": "code",
      "metadata": {
        "id": "_VCMw5qDgzMg"
      },
      "source": [
        "training_loss = [0.3407200276851654, 0.23846390843391418, 0.292585551738739, 0.38058358430862427]\n",
        "eval_loss = [0.7288363056798135, 0.30718324597804775, 0.24100508300527448, 0.3431440947517272]"
      ],
      "execution_count": null,
      "outputs": []
    },
    {
      "cell_type": "code",
      "metadata": {
        "colab": {
          "base_uri": "https://localhost:8080/",
          "height": 279
        },
        "id": "knJCby1hhYrr",
        "outputId": "52a56b1d-cf44-4191-f417-2a91b99844ef"
      },
      "source": [
        "import matplotlib.pyplot as plt\n",
        "import numpy as np\n",
        "plt.plot(np.linspace(1, len(training_loss) , len(training_loss))/5, training_loss)\n",
        "plt.plot(np.linspace(1, len(eval_loss) , len(eval_loss))/5, eval_loss)\n",
        "plt.ylabel('Loss')\n",
        "plt.xlabel('Epochs')\n",
        "plt.locator_params(axis='x', nbins=20)\n",
        "plt.legend(['Training Loss', 'Validation Loss'])\n",
        "plt.savefig('result.png')\n",
        "plt.show()"
      ],
      "execution_count": null,
      "outputs": [
        {
          "output_type": "display_data",
          "data": {
            "image/png": "[encoded data removed]",
            "text/plain": [
              "<Figure size 432x288 with 1 Axes>"
            ]
          },
          "metadata": {
            "needs_background": "light"
          }
        }
      ]
    },
    {
      "cell_type": "markdown",
      "metadata": {
        "id": "VPD4j2Igh7PC"
      },
      "source": [
        "#Demonstration"
      ]
    },
    {
      "cell_type": "code",
      "metadata": {
        "colab": {
          "base_uri": "https://localhost:8080/"
        },
        "id": "Zh_1u6Ox5z4p",
        "outputId": "50314206-6201-4d59-8db5-680bceb8c859"
      },
      "source": [
        "model_eval = TSRN(scale_factor=downSample , width=image_Width , height=image_Height , STN=False , srb_nums=srb , mask=True , hidden_units=hd_u)\n",
        "model_eval.load_state_dict(torch.load('gdrive/MyDrive/UROP/TextZoom_Resource/TextZoom_jpeg_20.pkl'))"
      ],
      "execution_count": null,
      "outputs": [
        {
          "output_type": "execute_result",
          "data": {
            "text/plain": [
              "<All keys matched successfully>"
            ]
          },
          "metadata": {},
          "execution_count": 33
        }
      ]
    },
    {
      "cell_type": "code",
      "metadata": {
        "id": "2bxLIQSH6O0B"
      },
      "source": [
        "model_eval = model_eval.to(device)"
      ],
      "execution_count": null,
      "outputs": []
    },
    {
      "cell_type": "code",
      "metadata": {
        "id": "Wu1Yw_tk6lHq"
      },
      "source": [
        "eval_img = Image.open(\"/content/content/eval_jpeg/screenshot00053.jpeg\")\n",
        "eval_img = eval_img.resize((image_Height // downSample, image_Width // downSample) , Image.BICUBIC)\n",
        "img_tensor = transforms.ToTensor()(eval_img)\n",
        "\n",
        "#add mask\n",
        "mask = eval_img.convert('L')\n",
        "thres = np.array(mask).mean()\n",
        "mask = mask.point(lambda x: 0 if x > thres else 255)\n",
        "mask = transforms.ToTensor()(mask)\n",
        "img_tensor = torch.cat((img_tensor, mask), 0)\n",
        "\n",
        "img_lr = img_tensor.unsqueeze(0)"
      ],
      "execution_count": null,
      "outputs": []
    },
    {
      "cell_type": "code",
      "metadata": {
        "id": "BHBc8Opr7qwG"
      },
      "source": [
        "img_lr = img_lr.to(device)\n",
        "img_sr = model_eval(img_lr)"
      ],
      "execution_count": null,
      "outputs": []
    },
    {
      "cell_type": "code",
      "metadata": {
        "id": "NgiBEdth72UN"
      },
      "source": [
        "#將 tensor 改成 ndarray\n",
        "img_save = img_sr[0]*255\n",
        "img_save = np.transpose(img_save.cpu().detach().numpy() , (1,2,0))\n",
        "img_save = img_save[: , : , 0:3]\n",
        "img_save = np.array(img_save, dtype=np.uint8)\n",
        "\n",
        "#網路抄來的...不知道為什麼要if\n",
        "if np.ndim(img_save)>3:\n",
        "  assert img_save.shape[0] == 1\n",
        "  img_save = img_save[0]\n",
        "\n",
        "img_save = Image.fromarray(img_save , \"RGB\")\n",
        "img_save.save('output.jpeg')"
      ],
      "execution_count": null,
      "outputs": []
    },
    {
      "cell_type": "code",
      "metadata": {
        "id": "FIZlpmZa8Htj"
      },
      "source": [
        "blur_img = eval_img.resize((image_Height, image_Width), Image.BICUBIC)\n",
        "blur_img.save('blur.jpeg')\n",
        "eval_img.save('small.jpeg')"
      ],
      "execution_count": null,
      "outputs": []
    },
    {
      "cell_type": "code",
      "metadata": {
        "id": "zfgYCNtA6FOD"
      },
      "source": [],
      "execution_count": null,
      "outputs": []
    }
  ]
}